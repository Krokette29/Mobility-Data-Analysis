{
 "cells": [
  {
   "cell_type": "markdown",
   "metadata": {},
   "source": [
    "# Shapely Basics"
   ]
  },
  {
   "cell_type": "markdown",
   "metadata": {},
   "source": [
    "## 0 Imports"
   ]
  },
  {
   "cell_type": "markdown",
   "metadata": {},
   "source": [
    "The following packages will be needed for this notebook. Make sure you have them installed in your environment!"
   ]
  },
  {
   "cell_type": "code",
   "execution_count": 1,
   "metadata": {},
   "outputs": [],
   "source": [
    "# Imports:\n",
    "from shapely.geometry import Point, LineString, box, LinearRing, Polygon, MultiPoint, MultiLineString, MultiPolygon, GeometryCollection\n",
    "from matplotlib import pyplot as plt"
   ]
  },
  {
   "cell_type": "markdown",
   "metadata": {},
   "source": [
    "## 1 Introduction"
   ]
  },
  {
   "cell_type": "markdown",
   "metadata": {},
   "source": [
    "In this notebook you will learn about the python package \"shapely\" which we will use to save and process geometries during this labcourse. The geometries which are discussed in the following correspond to the geometries you already know from the theory part: Points, Lines and Polygons.\n",
    "\n",
    "The shapely documentation can be found here: https://shapely.readthedocs.io/en/stable/manual.html\n",
    "This notebook will introduce you to the most important shapely concepts, all of which can also be looked up in the documentation. For deeper insights and further information please also refer to the documentation. \n",
    "\n",
    "The remainder of this notebook is structured as follows: Section 2 deals with the basic geometry objects in shapely, namely points, linestrings, linear rings and polygons. Section 3 introduces the concept of collections, which are used to store multiple basic geometries in one data structure. In Section 4, an excursus into the general visualization of shapely objects is presented. Section 5 gives an overview over the general attributes of shapely objects. The sixth Section finally presents basic operations that can be executed on shapely geometries. "
   ]
  },
  {
   "cell_type": "markdown",
   "metadata": {},
   "source": [
    "## 2 Simple Geometry Objects"
   ]
  },
  {
   "cell_type": "markdown",
   "metadata": {},
   "source": [
    "### 2.1 Point"
   ]
  },
  {
   "cell_type": "markdown",
   "metadata": {},
   "source": [
    "The simplest geometric object in shapely is the Point object. Points are defined by their coordinates in space. In shapely, points can have up to three spatial components (x,y,z). However, during this labcourse we will only deal with two coodinate points (x,y). \n",
    "\n",
    "Let's start by creating three example points:"
   ]
  },
  {
   "cell_type": "code",
   "execution_count": 2,
   "metadata": {},
   "outputs": [],
   "source": [
    "a = Point(0,0)\n",
    "\n",
    "# Please also create points b (1,0) and c(1,5)!\n",
    "\n",
    "b = Point(1, 0)\n",
    "c = Point(1, 5)"
   ]
  },
  {
   "cell_type": "markdown",
   "metadata": {},
   "source": [
    "We can now access the point coordinates using the x and y property of the Point object:"
   ]
  },
  {
   "cell_type": "code",
   "execution_count": 3,
   "metadata": {},
   "outputs": [
    {
     "name": "stdout",
     "output_type": "stream",
     "text": [
      "Coordinates of Point A: (0.0/0.0)\n",
      "Coordinates of Point B: (1.0/0.0)\n",
      "Coordinates of Point C: (1.0/5.0)\n"
     ]
    }
   ],
   "source": [
    "print(\"Coordinates of Point A: ({x}/{y})\".format(x=a.x, y=a.y))\n",
    "print(\"Coordinates of Point B: ({x}/{y})\".format(x=b.x, y=b.y))\n",
    "print(\"Coordinates of Point C: ({x}/{y})\".format(x=c.x, y=c.y))"
   ]
  },
  {
   "cell_type": "markdown",
   "metadata": {},
   "source": [
    "Be aware that shapely does not know anything about units. This means, for real-life applications you have to keep track of units yourself. To shapely, all coordinates are just plain floats:"
   ]
  },
  {
   "cell_type": "code",
   "execution_count": 4,
   "metadata": {},
   "outputs": [
    {
     "data": {
      "text/plain": [
       "float"
      ]
     },
     "execution_count": 4,
     "metadata": {},
     "output_type": "execute_result"
    }
   ],
   "source": [
    "type(a.x)"
   ]
  },
  {
   "cell_type": "markdown",
   "metadata": {},
   "source": [
    "The xy property of the Point object gives us a 2-tuple of arrays. One containing the x-coordinates and one containing the y-coordinates. In the case of a Point, we always find one x-coordinate and one y-coordinate. For more complex geometries like linestrings, these arrays will contain multiple coordinates as you will see later. "
   ]
  },
  {
   "cell_type": "code",
   "execution_count": 5,
   "metadata": {},
   "outputs": [
    {
     "name": "stdout",
     "output_type": "stream",
     "text": [
      "<class 'tuple'>\n",
      "<class 'array.array'>\n",
      "1.0\n",
      "5.0\n",
      "<class 'float'>\n"
     ]
    }
   ],
   "source": [
    "coordinates_c = c.xy\n",
    "\n",
    "print(type(coordinates_c)) # The xy property contains a 2-tuple \n",
    "print(type(coordinates_c[0])) # ... of coordinate arrays\n",
    "print(coordinates_c[0][0]) #  ... containing the x \n",
    "print(coordinates_c[1][0]) #  ... and y coordinates\n",
    "print(type(coordinates_c[0][0])) #  ... as floats"
   ]
  },
  {
   "cell_type": "markdown",
   "metadata": {},
   "source": [
    "It is very convinient and 'pythonic' to use value unpacking on such a tuple of coordinate-arrays to extract the x and y coordinates as separate arrays when passing them to a function. We will use this to plot our geometric objects!"
   ]
  },
  {
   "cell_type": "code",
   "execution_count": 6,
   "metadata": {},
   "outputs": [
    {
     "data": {
      "text/plain": [
       "Text(0, 0.5, 'y')"
      ]
     },
     "execution_count": 6,
     "metadata": {},
     "output_type": "execute_result"
    },
    {
     "data": {
      "image/png": "[encoded data removed]",
      "text/plain": [
       "<Figure size 432x288 with 1 Axes>"
      ]
     },
     "metadata": {
      "needs_background": "light"
     },
     "output_type": "display_data"
    }
   ],
   "source": [
    "plt.scatter(*a.xy) # This is the same as:\n",
    "plt.scatter(a.x, a.y, color='red', marker='o', s=500, facecolors='none')\n",
    "\n",
    "# Completing the plot\n",
    "plt.title(\"Two ways to plot a shapely Point\")\n",
    "plt.xlabel(\"x\")\n",
    "plt.ylabel(\"y\")"
   ]
  },
  {
   "cell_type": "markdown",
   "metadata": {},
   "source": [
    "Note that you can retrieve a well-known text representation from any shapely object:"
   ]
  },
  {
   "cell_type": "code",
   "execution_count": 7,
   "metadata": {},
   "outputs": [
    {
     "data": {
      "text/plain": [
       "'POINT (0 0)'"
      ]
     },
     "execution_count": 7,
     "metadata": {},
     "output_type": "execute_result"
    }
   ],
   "source": [
    "a.wkt"
   ]
  },
  {
   "cell_type": "markdown",
   "metadata": {},
   "source": [
    "Let's have a look at the points we created above:"
   ]
  },
  {
   "cell_type": "code",
   "execution_count": 8,
   "metadata": {},
   "outputs": [
    {
     "data": {
      "text/plain": [
       "Text(0, 0.5, 'y')"
      ]
     },
     "execution_count": 8,
     "metadata": {},
     "output_type": "execute_result"
    },
    {
     "data": {
      "image/png": "[encoded data removed]",
      "text/plain": [
       "<Figure size 432x288 with 1 Axes>"
      ]
     },
     "metadata": {
      "needs_background": "light"
     },
     "output_type": "display_data"
    }
   ],
   "source": [
    "plt.scatter(*a.xy)\n",
    "plt.scatter(*b.xy)\n",
    "plt.scatter(*c.xy)\n",
    "\n",
    "# Completing the plot\n",
    "plt.title(\"Points in shapely\")\n",
    "plt.xlabel(\"x\")\n",
    "plt.ylabel(\"y\")"
   ]
  },
  {
   "cell_type": "markdown",
   "metadata": {},
   "source": [
    "### 2.2 LineString"
   ]
  },
  {
   "cell_type": "markdown",
   "metadata": {},
   "source": [
    "In the theory section corresponding to this notebook we discussed the basic geometric elements that are needed in Geo-Data Analysis. Apart from points, we agreed that we also need lines. General lines are called linestrings in shapely. They are represented by a LineString object, that can be generated using a list of Point objects. Use the LineString class from the shapely documentation to create a LineString object from points a, b, and c!"
   ]
  },
  {
   "cell_type": "code",
   "execution_count": 9,
   "metadata": {},
   "outputs": [],
   "source": [
    "# Create a LineString object from a list of Points a, b, and c!\n",
    "\n",
    "linestring = LineString([a, b, c])"
   ]
  },
  {
   "cell_type": "code",
   "execution_count": 10,
   "metadata": {},
   "outputs": [
    {
     "name": "stdout",
     "output_type": "stream",
     "text": [
      "<class 'shapely.geometry.linestring.LineString'>\n"
     ]
    }
   ],
   "source": [
    "print(type(linestring))"
   ]
  },
  {
   "cell_type": "code",
   "execution_count": 11,
   "metadata": {},
   "outputs": [
    {
     "name": "stdout",
     "output_type": "stream",
     "text": [
      "LINESTRING (0 0, 1 0, 1 5)\n"
     ]
    }
   ],
   "source": [
    "print(linestring)"
   ]
  },
  {
   "cell_type": "markdown",
   "metadata": {},
   "source": [
    "Plot the newly created linestring using pyplot's plot function and value unpacking."
   ]
  },
  {
   "cell_type": "code",
   "execution_count": 12,
   "metadata": {},
   "outputs": [
    {
     "data": {
      "text/plain": [
       "Text(0, 0.5, 'y')"
      ]
     },
     "execution_count": 12,
     "metadata": {},
     "output_type": "execute_result"
    },
    {
     "data": {
      "image/png": "[encoded data removed]",
      "text/plain": [
       "<Figure size 432x288 with 1 Axes>"
      ]
     },
     "metadata": {
      "needs_background": "light"
     },
     "output_type": "display_data"
    }
   ],
   "source": [
    "# Use this codebox to plot your linestring\n",
    "\n",
    "plt.plot(*linestring.xy)\n",
    "\n",
    "plt.title(\"LineString in shapely\")\n",
    "plt.xlabel(\"x\")\n",
    "plt.ylabel(\"y\")"
   ]
  },
  {
   "cell_type": "markdown",
   "metadata": {},
   "source": [
    "### 2.3 LinearRing"
   ]
  },
  {
   "cell_type": "markdown",
   "metadata": {},
   "source": [
    "Oftentimes, a closed set of lines is needed, e.g. when working with contours of geometric objects in a map like the outline of buildings or bodies of water. For closed contours, shapely uses LinearRing objects. The only difference between linear rings and linestrings is that linear rings are always closed! All operations that work with line strings also work with linear rings. \n",
    "\n",
    "**Unfortunately linear rings can not be generated from points directly. Linear rings have to be created using coordinate lists providing coordinate tuples ([(x1, y1), (x1, y2)...]). These can be derived from nodes.**"
   ]
  },
  {
   "cell_type": "code",
   "execution_count": 13,
   "metadata": {},
   "outputs": [],
   "source": [
    "point_list = [a, b, c] # A list containing the points that were created above\n",
    "coordinate_list = [(pt.x, pt.y) for pt in point_list]"
   ]
  },
  {
   "cell_type": "markdown",
   "metadata": {},
   "source": [
    "If a LinearRing is initialized using a non closed set of coordinates, the first coordinate tuple will be assumed to also be the last coordinate tuple, hence, closing the LinearRing implicitly. \n",
    "A LinearRing can also be closed explicitely, providing a set of coordinate tuples where the first tuple equals the last tuple."
   ]
  },
  {
   "cell_type": "code",
   "execution_count": 14,
   "metadata": {},
   "outputs": [],
   "source": [
    "# Implicitly closed\n",
    "linear_ring_imp = LinearRing(coordinate_list)\n",
    "\n",
    "# Explicitly closed\n",
    "linear_ring_exp = LinearRing(coordinate_list+[(a.x, a.y)])"
   ]
  },
  {
   "cell_type": "markdown",
   "metadata": {},
   "source": [
    "It is easy to show that both implicitly and explicity closed linear rings are equal to one another. Hence, we only keep one copy and name it linear_ring\n",
    "\n",
    "（显式的表示最后再加上初始点，和隐式的没区别）"
   ]
  },
  {
   "cell_type": "code",
   "execution_count": 15,
   "metadata": {
    "scrolled": true
   },
   "outputs": [
    {
     "name": "stdout",
     "output_type": "stream",
     "text": [
      "There is NO difference between the explicit closing and the implicit closing of LinearRings\n"
     ]
    }
   ],
   "source": [
    "# Are these the same?\n",
    "if linear_ring_exp == linear_ring_imp:\n",
    "    linear_ring = linear_ring_imp\n",
    "    del linear_ring_exp\n",
    "    del linear_ring_imp\n",
    "    print(\"There is NO difference between the explicit closing and the implicit closing of LinearRings\")\n",
    "else:\n",
    "    # This should never happen\n",
    "    print(\"There is a difference between the explicit closing and the implicit closing of LinearRings\")"
   ]
  },
  {
   "cell_type": "code",
   "execution_count": 16,
   "metadata": {},
   "outputs": [
    {
     "data": {
      "text/plain": [
       "Text(0, 0.5, 'y')"
      ]
     },
     "execution_count": 16,
     "metadata": {},
     "output_type": "execute_result"
    },
    {
     "data": {
      "image/png": "[encoded data removed]",
      "text/plain": [
       "<Figure size 432x288 with 1 Axes>"
      ]
     },
     "metadata": {
      "needs_background": "light"
     },
     "output_type": "display_data"
    }
   ],
   "source": [
    "plt.plot(*linear_ring.xy)\n",
    "\n",
    "# Completing the plot\n",
    "plt.title(\"LinearRing\")\n",
    "plt.xlabel(\"x\")\n",
    "plt.ylabel(\"y\")"
   ]
  },
  {
   "cell_type": "markdown",
   "metadata": {},
   "source": [
    "### 2.4 Polygon"
   ]
  },
  {
   "cell_type": "markdown",
   "metadata": {},
   "source": [
    "The third basic geometric object needed for Geo-Data Analysis is the polygon. A polygon represents an arbitrarily shaped area. \n",
    "\n",
    "There are two ways to construct a polygon from the geometric objects introduced before. One is to construct a polygon using a closed contour, namely a LinearRing. The other is to provide a list of coordinates containing the edges of the polygon:"
   ]
  },
  {
   "cell_type": "code",
   "execution_count": 17,
   "metadata": {},
   "outputs": [],
   "source": [
    "# Please create a Polygon object from the LinearRing object \"linear_ring\" and name it \"polygon_from_ring\"\n",
    "polygon_from_ring = Polygon(linear_ring)\n",
    "\n",
    "# Let's also build a polygon from a list of coordinates\n",
    "polygon_from_coordinates = Polygon(coordinate_list)"
   ]
  },
  {
   "cell_type": "markdown",
   "metadata": {},
   "source": [
    "Again, we can show that there is no difference between the two ways to create a polygon."
   ]
  },
  {
   "cell_type": "code",
   "execution_count": 18,
   "metadata": {},
   "outputs": [
    {
     "name": "stdout",
     "output_type": "stream",
     "text": [
      "There is NO difference between the ways to create a Polygon\n"
     ]
    }
   ],
   "source": [
    "# Are these identical?\n",
    "if polygon_from_ring == polygon_from_coordinates:\n",
    "    print(\"There is NO difference between the ways to create a Polygon\")\n",
    "    polygon = polygon_from_ring\n",
    "else:\n",
    "    # This should never happen\n",
    "    print(\"There is a difference between the ways to create a Polygon\")"
   ]
  },
  {
   "cell_type": "markdown",
   "metadata": {},
   "source": [
    "Under the hood, shapely distinguishes between points, curves and surfaces. Points are points, LinearStrings and LinearRings are curves and polygons are surfaces. Polygons are defined by the points marking their outline. However, the corresponding coordinates can not be retrieved by the .xy property. Instead, each type of polygon has an .exterior property which is a LinearRing, no matter how it was created. This in turn (we have seen it above) can be used to retrieve coordinates of the outlines via a .xy property. \n",
    "\n",
    "Hence, to plot a surface-type object, we have to use the following workaround:"
   ]
  },
  {
   "cell_type": "code",
   "execution_count": 19,
   "metadata": {},
   "outputs": [
    {
     "data": {
      "text/plain": [
       "Text(0, 0.5, 'y')"
      ]
     },
     "execution_count": 19,
     "metadata": {},
     "output_type": "execute_result"
    },
    {
     "data": {
      "image/png": "[encoded data removed]",
      "text/plain": [
       "<Figure size 432x288 with 1 Axes>"
      ]
     },
     "metadata": {
      "needs_background": "light"
     },
     "output_type": "display_data"
    }
   ],
   "source": [
    "plt.plot(*polygon.exterior.xy)\n",
    "\n",
    "# Completing the plot\n",
    "plt.title(\"Polygon\")\n",
    "plt.xlabel(\"x\")\n",
    "plt.ylabel(\"y\")"
   ]
  },
  {
   "cell_type": "markdown",
   "metadata": {},
   "source": [
    "### 2.5 Box"
   ]
  },
  {
   "cell_type": "markdown",
   "metadata": {},
   "source": [
    "The box is a special polygon which has exactly four edges. The box object in shapely is used to easily create such a box without providing all four coordinate tuples. Instead, just four coordinates have to be supplied: the minimal x coordinate, the minimal y coordinate, the maximal x coordinate and the maximal y coordinate. \n",
    "Through these coordinates a box is uniquely defined. "
   ]
  },
  {
   "cell_type": "code",
   "execution_count": 20,
   "metadata": {},
   "outputs": [],
   "source": [
    "minx, miny, maxx, maxy = 0,1,4,4\n",
    "\n",
    "box_ = box(minx, miny, maxx, maxy) # Name the box \"box_\" to prevent confusion with the function itself"
   ]
  },
  {
   "cell_type": "markdown",
   "metadata": {},
   "source": [
    "Since boxes are polygons, they are plotted just like polygons. Use your knowledge from the polygon case to plot the exterior of the box using pyplot!"
   ]
  },
  {
   "cell_type": "code",
   "execution_count": 21,
   "metadata": {},
   "outputs": [
    {
     "data": {
      "text/plain": [
       "Text(0, 0.5, 'y')"
      ]
     },
     "execution_count": 21,
     "metadata": {},
     "output_type": "execute_result"
    },
    {
     "data": {
      "image/png": "[encoded data removed]",
      "text/plain": [
       "<Figure size 432x288 with 1 Axes>"
      ]
     },
     "metadata": {
      "needs_background": "light"
     },
     "output_type": "display_data"
    }
   ],
   "source": [
    "# Plot the box here\n",
    "\n",
    "plt.plot(*box_.exterior.xy)\n",
    "\n",
    "plt.title(\"Box in shapely\")\n",
    "plt.xlabel(\"x\")\n",
    "plt.ylabel(\"y\")"
   ]
  },
  {
   "cell_type": "markdown",
   "metadata": {},
   "source": [
    "## 3 Collections"
   ]
  },
  {
   "cell_type": "markdown",
   "metadata": {},
   "source": [
    "It is sometimes beneficial, to store multiple basic geometries in a common data structure. Collections can be used to bundle geometries of the same type (MultiPoint, MultiLineString, MultiPolygon) or of different types (GeometryCollection). Collections are generally created by passing a list of basic geometries to the corresponding multi-object."
   ]
  },
  {
   "cell_type": "markdown",
   "metadata": {},
   "source": [
    "### 3.1 MultiPoint"
   ]
  },
  {
   "cell_type": "code",
   "execution_count": 22,
   "metadata": {},
   "outputs": [
    {
     "name": "stdout",
     "output_type": "stream",
     "text": [
      "POINT (0 0)\n"
     ]
    }
   ],
   "source": [
    "# Let's create a MultiPoint from a list of points\n",
    "multi_point = MultiPoint([a,b,c])\n",
    "\n",
    "# Accessing elements in Collections is easy\n",
    "point_from_multipoint = multi_point[0]\n",
    "print(point_from_multipoint.wkt)"
   ]
  },
  {
   "cell_type": "code",
   "execution_count": 23,
   "metadata": {},
   "outputs": [
    {
     "data": {
      "text/plain": [
       "Text(0, 0.5, 'y')"
      ]
     },
     "execution_count": 23,
     "metadata": {},
     "output_type": "execute_result"
    },
    {
     "data": {
      "image/png": "[encoded data removed]",
      "text/plain": [
       "<Figure size 432x288 with 1 Axes>"
      ]
     },
     "metadata": {
      "needs_background": "light"
     },
     "output_type": "display_data"
    }
   ],
   "source": [
    "for point in multi_point:\n",
    "    plt.scatter(*point.xy)\n",
    "    \n",
    "# Completing the plot\n",
    "plt.title(\"MultiPoint\")\n",
    "plt.xlabel(\"x\")\n",
    "plt.ylabel(\"y\")"
   ]
  },
  {
   "cell_type": "markdown",
   "metadata": {},
   "source": [
    "### 3.2 MultiLineString"
   ]
  },
  {
   "cell_type": "code",
   "execution_count": 24,
   "metadata": {},
   "outputs": [
    {
     "name": "stdout",
     "output_type": "stream",
     "text": [
      "LINESTRING (0 0, 0 5)\n"
     ]
    }
   ],
   "source": [
    "# Also for LineStrings\n",
    "multi_linestring = MultiLineString([LineString([(0,0), (0,5)]), LineString([(3,0), (3,5)])])\n",
    "# Note: This also works for linear rings\n",
    "\n",
    "# Accessing elements works just like in the MultiPoint case\n",
    "point_from_multilinestring = multi_linestring[0]\n",
    "print(point_from_multilinestring)"
   ]
  },
  {
   "cell_type": "code",
   "execution_count": 25,
   "metadata": {},
   "outputs": [
    {
     "data": {
      "text/plain": [
       "Text(0, 0.5, 'y')"
      ]
     },
     "execution_count": 25,
     "metadata": {},
     "output_type": "execute_result"
    },
    {
     "data": {
      "image/png": "[encoded data removed]",
      "text/plain": [
       "<Figure size 432x288 with 1 Axes>"
      ]
     },
     "metadata": {
      "needs_background": "light"
     },
     "output_type": "display_data"
    }
   ],
   "source": [
    "for ls in multi_linestring:\n",
    "    plt.plot(*ls.xy)\n",
    "    \n",
    "# Completing the plot\n",
    "plt.title(\"MultiLineString\")\n",
    "plt.xlabel(\"x\")\n",
    "plt.ylabel(\"y\")"
   ]
  },
  {
   "cell_type": "markdown",
   "metadata": {},
   "source": [
    "### 3.3 MultiPolygon"
   ]
  },
  {
   "cell_type": "markdown",
   "metadata": {},
   "source": [
    "With your knowledge from the MuliPoint and the MultiLineString example, create a MultiPolygon from the \"polygon\" and the \"box_\" and store it in a variable called \"multi_polygon\""
   ]
  },
  {
   "cell_type": "code",
   "execution_count": 26,
   "metadata": {},
   "outputs": [],
   "source": [
    "# Create a MultiPolygon from polygon and box_ and name it multi_polygon\n",
    "multi_polygon = MultiPolygon([polygon, box_])\n",
    "\n"
   ]
  },
  {
   "cell_type": "code",
   "execution_count": 27,
   "metadata": {},
   "outputs": [
    {
     "data": {
      "text/plain": [
       "Text(0, 0.5, 'y')"
      ]
     },
     "execution_count": 27,
     "metadata": {},
     "output_type": "execute_result"
    },
    {
     "data": {
      "image/png": "[encoded data removed]",
      "text/plain": [
       "<Figure size 432x288 with 1 Axes>"
      ]
     },
     "metadata": {
      "needs_background": "light"
     },
     "output_type": "display_data"
    }
   ],
   "source": [
    "for mp in multi_polygon: \n",
    "    plt.plot(*mp.exterior.xy)\n",
    "    \n",
    "# Completing the plot\n",
    "plt.title(\"MultiPolygon\")\n",
    "plt.xlabel(\"x\")\n",
    "plt.ylabel(\"y\")"
   ]
  },
  {
   "cell_type": "markdown",
   "metadata": {},
   "source": [
    "### 3.4 GeometryCollection"
   ]
  },
  {
   "cell_type": "markdown",
   "metadata": {},
   "source": [
    "GeometryCollection objects are used to store shapely geometries of different types. They are initialized by a list of shapely geometry objects just like the other MultiObjects you already know about. "
   ]
  },
  {
   "cell_type": "code",
   "execution_count": 28,
   "metadata": {},
   "outputs": [
    {
     "name": "stdout",
     "output_type": "stream",
     "text": [
      "GEOMETRYCOLLECTION (POINT (0 0), LINESTRING (0 0, 1 0, 1 5), LINEARRING (0 0, 1 0, 1 5, 0 0), POLYGON ((0 0, 1 0, 1 5, 0 0)), MULTIPOINT (0 0, 1 0, 1 5), MULTILINESTRING ((0 0, 0 5), (3 0, 3 5)), MULTIPOLYGON (((0 0, 1 0, 1 5, 0 0)), ((4 1, 4 4, 0 4, 0 1, 4 1))))\n"
     ]
    }
   ],
   "source": [
    "# But what if we want to store  different geometries in one data structure?\n",
    "geometry_collection = GeometryCollection([a, linestring, linear_ring, polygon, multi_point, multi_linestring, multi_polygon])\n",
    "\n",
    "# Let's see what it contains:\n",
    "print(geometry_collection)"
   ]
  },
  {
   "cell_type": "code",
   "execution_count": 29,
   "metadata": {},
   "outputs": [
    {
     "data": {
      "text/plain": [
       "Text(0, 0.5, 'y')"
      ]
     },
     "execution_count": 29,
     "metadata": {},
     "output_type": "execute_result"
    },
    {
     "data": {
      "image/png": "[encoded data removed]",
      "text/plain": [
       "<Figure size 432x288 with 1 Axes>"
      ]
     },
     "metadata": {
      "needs_background": "light"
     },
     "output_type": "display_data"
    }
   ],
   "source": [
    "for geom in geometry_collection:\n",
    "    if type(geom) == Point:\n",
    "        plt.scatter(*geom.xy)\n",
    "    elif type(geom) == LineString or type(geom) == LinearRing:\n",
    "        plt.plot(*geom.xy)\n",
    "    elif type(geom) == MultiPolygon:\n",
    "        for p in geom:\n",
    "            plt.plot(*p.exterior.xy)\n",
    "    elif type(geom) == MultiPoint:\n",
    "        for p in geom:\n",
    "            plt.scatter(*p.xy)\n",
    "    elif type(geom) == MultiLineString:\n",
    "        for ls in geom:\n",
    "            plt.plot(*ls.xy)\n",
    "    else:    \n",
    "        plt.plot(*geom.exterior.xy)\n",
    "        \n",
    "# Completing the plot\n",
    "plt.title(\"GeometryCollection\")\n",
    "plt.xlabel(\"x\")\n",
    "plt.ylabel(\"y\")"
   ]
  },
  {
   "cell_type": "markdown",
   "metadata": {},
   "source": [
    "## 4 General Visualization"
   ]
  },
  {
   "cell_type": "markdown",
   "metadata": {},
   "source": [
    "In this section, a universal plot function for shapely geometries is defined, in order to alleviate the effort needed to plot an arbitrary shapely object. The concrete implementation is just for the interested reader. If you decide to skip this section, just remember that you can use a function plot_shp that you pass an arbitrary shapely object and matplotlib \\*args and \\*\\*kwargs in the remainder of this notebook "
   ]
  },
  {
   "cell_type": "code",
   "execution_count": 30,
   "metadata": {},
   "outputs": [],
   "source": [
    "# Plot a Point\n",
    "def plot_pt(pt, *args, **kwargs):\n",
    "    plt.scatter(*pt.xy, *args, **kwargs)\n",
    "\n",
    "# Plot a LineString\n",
    "def plot_ls(ls, *args, **kwargs):\n",
    "    plt.plot(*ls.xy, *args, **kwargs)\n",
    "\n",
    "# Plot a LinearRing\n",
    "def plot_lr(lr, *args, **kwargs):\n",
    "    plot_ls(lr, *args, **kwargs)\n",
    "    \n",
    "# Plot a Polygon\n",
    "def plot_poly(poly, *args, **kwargs):\n",
    "    plt.plot(*poly.exterior.xy, *args, **kwargs)\n",
    "    \n",
    "# Plot a MultiPoint\n",
    "def plot_mpt(mpt, *args, **kwargs):\n",
    "    for pt in mpt:\n",
    "        plot_pt(pt, *args, **kwargs)\n",
    "        \n",
    "# Plot a MultiLineString\n",
    "def plot_mls(mls, *args, **kwargs):\n",
    "    for ls in mls:\n",
    "        plot_ls(ls, *args, **kwargs)\n",
    "        \n",
    "# Plot a MultiPolygon\n",
    "def plot_mpoly(mpoly, *args, **kwargs):\n",
    "    for poly in mpoly:\n",
    "        plot_poly(poly, *args, **kwargs)\n",
    "    \n",
    "# Plot a GeometryCollection\n",
    "def plot_gc(gc, *args, **kwargs):\n",
    "    for geom in gc:\n",
    "        if type(geom) == Point:\n",
    "            plot_pt(geom, *args, **kwargs)\n",
    "        elif type(geom) == LineString or type(geom) == LinearRing:\n",
    "            plot_ls(geom, *args, **kwargs)\n",
    "        elif type(geom) == Polygon:\n",
    "            plot_poly(geom, *args, **kwargs)\n",
    "        elif type(geom) == MultiPolygon:\n",
    "            plot_mpoly(geom, *args, **kwargs)\n",
    "        elif type(geom) == MultiPoint:\n",
    "            plot_mpt(geom, *args, **kwargs)\n",
    "        elif type(geom) == MultiLineString:\n",
    "            plot_mls(geom, *args, **kwargs)\n",
    "        elif type(geom) == GeometryCollection:\n",
    "            plot_gc(geom, *args, **kwargs)\n",
    "        else:    \n",
    "            raise Exception(\"Unknown geometry type in GeometryCollection! Can't plot\")\n",
    "            \n",
    "def plot_shp(geom, *args, **kwargs):\n",
    "    if type(geom) == Point:\n",
    "        plot_pt(geom, *args, **kwargs)\n",
    "    elif type(geom) in [LineString, LinearRing]:\n",
    "        plot_ls(geom, *args, **kwargs)\n",
    "    elif type(geom) in [Polygon, box]:\n",
    "        plot_poly(geom, *args, **kwargs)\n",
    "    elif type(geom) == MultiLineString:\n",
    "        plot_mls(geom, *args, **kwargs)\n",
    "    elif type(geom) == MultiPoint:\n",
    "        plot_mpt(geom, *args, **kwargs)\n",
    "    elif type(geom) == MultiPolygon:\n",
    "        plot_mpoly(geom, *args, **kwargs)\n",
    "    elif type(geom) == GeometryCollection:\n",
    "        plot_gc(geom, *args, **kwargs)\n",
    "    else:\n",
    "        raise Exception(\"Unknown geometry type! Can't plot\")"
   ]
  },
  {
   "cell_type": "markdown",
   "metadata": {},
   "source": [
    "Let's test our new function! Use a geometry_collection object for testing, because it makes use of all the subfunctions!"
   ]
  },
  {
   "cell_type": "code",
   "execution_count": 31,
   "metadata": {},
   "outputs": [
    {
     "data": {
      "text/plain": [
       "Text(0, 0.5, 'y')"
      ]
     },
     "execution_count": 31,
     "metadata": {},
     "output_type": "execute_result"
    },
    {
     "data": {
      "image/png": "[encoded data removed]",
      "text/plain": [
       "<Figure size 432x288 with 1 Axes>"
      ]
     },
     "metadata": {
      "needs_background": "light"
     },
     "output_type": "display_data"
    }
   ],
   "source": [
    "plot_shp(geometry_collection)\n",
    "\n",
    "# Completing the plot\n",
    "plt.title(\"GeometryCollection\")\n",
    "plt.xlabel(\"x\")\n",
    "plt.ylabel(\"y\")"
   ]
  },
  {
   "cell_type": "markdown",
   "metadata": {},
   "source": [
    "## 5 Attributes of Geometry Objects"
   ]
  },
  {
   "cell_type": "markdown",
   "metadata": {},
   "source": [
    "All geometric objects and multi-objects known from above share a set of common properties that are automatically determined on object creation. They can later be accessed to characterize the stored geometry. The interested reader is referred to the shapely documentation for a comprehensive list of available properties. In this introduction however, four basic attributes shall be investigated: \n",
    "\n",
    "- geom_type: Carries information on the geometry type of the object. Possible values are: Point, LineString, LinearRing, Polygon, MultiPoint, MultiLineString, MultiPolygon and GeometriyCollection\n",
    "\n",
    "- area: The area covered by the geometric object as a float. Remember that the unit of this area depends on the unit of the underlying coordinates that is not managed by shapely itself. Therefore, you have to interpret this property. \n",
    "\n",
    "- bounds: Coordinates of a box, containing all objects stored in the geometry.\n",
    "\n",
    "- length: The length of the outline of the geometry. \n",
    "\n",
    "To conviniently demonstrate characteristic values of these properties for the different geom_types we define a function that prints the values of the properties:"
   ]
  },
  {
   "cell_type": "code",
   "execution_count": 32,
   "metadata": {},
   "outputs": [],
   "source": [
    "# Each geometric object in shapely has some basic attributes one can access\n",
    "def print_basic_attr(geom_obj):\n",
    "    \n",
    "    headline = \"+++ ATTRIBUTES OF A GEOMETRY OBJECT +++:\"\n",
    "    lb = \"\\n\" # A linebreak\n",
    "    geom_type = \"Geometry Type: {}\".format(geom_obj.geom_type)\n",
    "    area = \"Area: {}\".format(geom_obj.area)\n",
    "    bounds = \"Bounds: {}\".format(geom_obj.bounds)\n",
    "    length = \"Length {}\".format(geom_obj.length)\n",
    "    \n",
    "    print(headline+lb+geom_type+lb+area+lb+bounds+lb+length+lb)\n",
    "    "
   ]
  },
  {
   "cell_type": "code",
   "execution_count": 33,
   "metadata": {},
   "outputs": [
    {
     "name": "stdout",
     "output_type": "stream",
     "text": [
      "+++ ATTRIBUTES OF A GEOMETRY OBJECT +++:\n",
      "Geometry Type: Point\n",
      "Area: 0.0\n",
      "Bounds: (0.0, 0.0, 0.0, 0.0)\n",
      "Length 0.0\n",
      "\n",
      "+++ ATTRIBUTES OF A GEOMETRY OBJECT +++:\n",
      "Geometry Type: LineString\n",
      "Area: 0.0\n",
      "Bounds: (0.0, 0.0, 1.0, 5.0)\n",
      "Length 6.0\n",
      "\n",
      "+++ ATTRIBUTES OF A GEOMETRY OBJECT +++:\n",
      "Geometry Type: LinearRing\n",
      "Area: 0.0\n",
      "Bounds: (0.0, 0.0, 1.0, 5.0)\n",
      "Length 11.099019513592784\n",
      "\n",
      "+++ ATTRIBUTES OF A GEOMETRY OBJECT +++:\n",
      "Geometry Type: Polygon\n",
      "Area: 2.5\n",
      "Bounds: (0.0, 0.0, 1.0, 5.0)\n",
      "Length 11.099019513592784\n",
      "\n",
      "+++ ATTRIBUTES OF A GEOMETRY OBJECT +++:\n",
      "Geometry Type: MultiPoint\n",
      "Area: 0.0\n",
      "Bounds: (0.0, 0.0, 1.0, 5.0)\n",
      "Length 0.0\n",
      "\n",
      "+++ ATTRIBUTES OF A GEOMETRY OBJECT +++:\n",
      "Geometry Type: MultiLineString\n",
      "Area: 0.0\n",
      "Bounds: (0.0, 0.0, 3.0, 5.0)\n",
      "Length 10.0\n",
      "\n",
      "+++ ATTRIBUTES OF A GEOMETRY OBJECT +++:\n",
      "Geometry Type: MultiPolygon\n",
      "Area: 14.5\n",
      "Bounds: (0.0, 0.0, 4.0, 5.0)\n",
      "Length 25.099019513592786\n",
      "\n",
      "+++ ATTRIBUTES OF A GEOMETRY OBJECT +++:\n",
      "Geometry Type: GeometryCollection\n",
      "Area: 17.0\n",
      "Bounds: (0.0, 0.0, 4.0, 5.0)\n",
      "Length 63.29705854077836\n",
      "\n"
     ]
    }
   ],
   "source": [
    "# Let's have a look at the attributes of the shapes we just created\n",
    "\n",
    "# Points\n",
    "print_basic_attr(a)\n",
    "\n",
    "# LineString\n",
    "print_basic_attr(linestring)\n",
    "\n",
    "# LinearRing\n",
    "print_basic_attr(linear_ring)\n",
    "\n",
    "# Polygon\n",
    "print_basic_attr(polygon)\n",
    "\n",
    "# Multipoint\n",
    "print_basic_attr(multi_point)\n",
    "\n",
    "# MultiLineString\n",
    "print_basic_attr(multi_linestring)\n",
    "\n",
    "# MultiPolygon\n",
    "print_basic_attr(multi_polygon)\n",
    "\n",
    "# GeometryCollection\n",
    "print_basic_attr(geometry_collection)"
   ]
  },
  {
   "cell_type": "markdown",
   "metadata": {},
   "source": [
    "## 6 Operations on Geometry Objects"
   ]
  },
  {
   "cell_type": "markdown",
   "metadata": {},
   "source": [
    "In the previous sections you learned about the initialization and plotting of shapely objects. Therefore, you are now able to create, store and visualize such objects. For data analysis however, more complex operations are needed in order to interpret and process geometric data. This section deals with the operations that can be carried out on shapely geometries. Most of the presented operations often occur in said data analyses and are therefore most important for the remainder of this labcourse. \n",
    "\n",
    "This section is split in two subsections: Section 6.1 deals with relative operations, that is, operations that use multiple shapely objects to compare, analyze or process them with regards to their properties. Section 6.2 then introduces generative operations that can be used to derive new geometries from existing ones. "
   ]
  },
  {
   "cell_type": "markdown",
   "metadata": {},
   "source": [
    "### 6.1 Relative Operations"
   ]
  },
  {
   "cell_type": "markdown",
   "metadata": {},
   "source": [
    "In this subsection, five relative operations between shapely objects are presented: within and contains (6.1.1), intersection (6.1.2), union (6.1.3) and symmetric_difference (6.1.4)."
   ]
  },
  {
   "cell_type": "markdown",
   "metadata": {},
   "source": [
    "#### 6.1.1 within and contains"
   ]
  },
  {
   "cell_type": "markdown",
   "metadata": {},
   "source": [
    "With the help of relative operations, basic questions about the location and properties of shapely objects can be answered. We can for example check if points are located within areas. Or, vice versa, whether areas contain points:"
   ]
  },
  {
   "cell_type": "code",
   "execution_count": 34,
   "metadata": {},
   "outputs": [
    {
     "name": "stdout",
     "output_type": "stream",
     "text": [
      "d is within the box: True\n",
      "e is within the box: True\n",
      "d is within the polygon: False\n",
      "e is within the polygon: True\n"
     ]
    }
   ],
   "source": [
    "# Let's create additional points\n",
    "d = Point(2,2)\n",
    "e = Point(0.75, 1.5)\n",
    "\n",
    "# Are d or e within the box?\n",
    "\n",
    "print(\"d is within the box: {}\".format(d.within(box_)))\n",
    "print(\"e is within the box: {}\".format(d.within(box_)))\n",
    "\n",
    "# Are d or e within the polygon?\n",
    "\n",
    "print(\"d is within the polygon: {}\".format(d.within(polygon)))\n",
    "print(\"e is within the polygon: {}\".format(e.within(polygon)))"
   ]
  },
  {
   "cell_type": "markdown",
   "metadata": {},
   "source": [
    "We can check the results by visualizing the underlying geometry."
   ]
  },
  {
   "cell_type": "code",
   "execution_count": 35,
   "metadata": {},
   "outputs": [
    {
     "data": {
      "image/png": "[encoded data removed]",
      "text/plain": [
       "<Figure size 432x288 with 1 Axes>"
      ]
     },
     "metadata": {
      "needs_background": "light"
     },
     "output_type": "display_data"
    }
   ],
   "source": [
    "plot_shp(GeometryCollection([d,e,box_,polygon]))"
   ]
  },
  {
   "cell_type": "markdown",
   "metadata": {},
   "source": [
    "The same result can be obtained vice versa. Use the contains function to determine whether: \n",
    "\n",
    "    - The box contains d\n",
    "    - The box contains e\n",
    "    - The polygon contains d\n",
    "    - The polygon contains e\n",
    "    \n",
    "And print your result."
   ]
  },
  {
   "cell_type": "code",
   "execution_count": 36,
   "metadata": {},
   "outputs": [
    {
     "name": "stdout",
     "output_type": "stream",
     "text": [
      "The box contains d: True\n",
      "The box contains e: True\n",
      "The polygon contains d: False\n",
      "The polygon contains e: True\n"
     ]
    }
   ],
   "source": [
    "# Print the truth values of the propositions defined in the text box above! Use the contains function!\n",
    "\n",
    "print(\"The box contains d: {}\".format(box_.contains(d)))\n",
    "print(\"The box contains e: {}\".format(box_.contains(e)))\n",
    "print(\"The polygon contains d: {}\".format(polygon.contains(d)))\n",
    "print(\"The polygon contains e: {}\".format(polygon.contains(e)))"
   ]
  },
  {
   "cell_type": "markdown",
   "metadata": {},
   "source": [
    "#### 6.1.2 intersection"
   ]
  },
  {
   "cell_type": "code",
   "execution_count": 37,
   "metadata": {},
   "outputs": [
    {
     "data": {
      "text/plain": [
       "Text(0, 0.5, 'y')"
      ]
     },
     "execution_count": 37,
     "metadata": {},
     "output_type": "execute_result"
    },
    {
     "data": {
      "image/png": "[encoded data removed]",
      "text/plain": [
       "<Figure size 432x288 with 1 Axes>"
      ]
     },
     "metadata": {
      "needs_background": "light"
     },
     "output_type": "display_data"
    }
   ],
   "source": [
    "# Where do the box and the polygon intersect?\n",
    "intersection_box_polygon = box_.intersection(polygon)\n",
    "\n",
    "plot_shp(intersection_box_polygon)\n",
    "\n",
    "# Completing the plot\n",
    "plt.title(\"Intersection of a box and a polygon\")\n",
    "plt.xlabel(\"x\")\n",
    "plt.ylabel(\"y\")"
   ]
  },
  {
   "cell_type": "markdown",
   "metadata": {},
   "source": [
    "#### 6.1.3 union"
   ]
  },
  {
   "cell_type": "code",
   "execution_count": 38,
   "metadata": {},
   "outputs": [
    {
     "data": {
      "text/plain": [
       "Text(0, 0.5, 'y')"
      ]
     },
     "execution_count": 38,
     "metadata": {},
     "output_type": "execute_result"
    },
    {
     "data": {
      "image/png": "[encoded data removed]",
      "text/plain": [
       "<Figure size 432x288 with 1 Axes>"
      ]
     },
     "metadata": {
      "needs_background": "light"
     },
     "output_type": "display_data"
    }
   ],
   "source": [
    "# Union the box and the polygon\n",
    "union_box_polygon = box_.union(polygon)\n",
    "plot_shp(union_box_polygon)\n",
    "\n",
    "# Completing the plot\n",
    "plt.title(\"Union of a box and a polygon\")\n",
    "plt.xlabel(\"x\")\n",
    "plt.ylabel(\"y\")"
   ]
  },
  {
   "cell_type": "markdown",
   "metadata": {},
   "source": [
    "#### 6.1.4 symmetric_difference（不属于两者交集的）"
   ]
  },
  {
   "cell_type": "code",
   "execution_count": 39,
   "metadata": {},
   "outputs": [
    {
     "data": {
      "text/plain": [
       "Text(0, 0.5, 'y')"
      ]
     },
     "execution_count": 39,
     "metadata": {},
     "output_type": "execute_result"
    },
    {
     "data": {
      "image/png": "[encoded data removed]",
      "text/plain": [
       "<Figure size 432x288 with 1 Axes>"
      ]
     },
     "metadata": {
      "needs_background": "light"
     },
     "output_type": "display_data"
    }
   ],
   "source": [
    "# Get everything that is not in the union of the box this may create a MultiPolygon!\n",
    "difference_box_polygon = box_.symmetric_difference(polygon)\n",
    "\n",
    "plot_shp(difference_box_polygon)\n",
    "\n",
    "# Completing the plot\n",
    "plt.title(\"Difference of a box and a polygon\")\n",
    "plt.xlabel(\"x\")\n",
    "plt.ylabel(\"y\")"
   ]
  },
  {
   "cell_type": "markdown",
   "metadata": {},
   "source": [
    "### 6.2 Constructive Operations"
   ]
  },
  {
   "cell_type": "markdown",
   "metadata": {},
   "source": [
    "Constructive operations are used to derive new geometry from existing geometries, that are not subsets if the input geometries. The following subsections will introduce three constructive operations: envelope (6.2.1),  buffer (6.2.2) and convex_hull (6.2.3)."
   ]
  },
  {
   "cell_type": "markdown",
   "metadata": {},
   "source": [
    "#### 6.2.1 envelope"
   ]
  },
  {
   "cell_type": "markdown",
   "metadata": {},
   "source": [
    "The envelope of a geometric object is the smallest rectangular polygon that contains the object."
   ]
  },
  {
   "cell_type": "code",
   "execution_count": 40,
   "metadata": {},
   "outputs": [
    {
     "data": {
      "text/plain": [
       "Text(0, 0.5, 'y')"
      ]
     },
     "execution_count": 40,
     "metadata": {},
     "output_type": "execute_result"
    },
    {
     "data": {
      "image/png": "[encoded data removed]",
      "text/plain": [
       "<Figure size 432x288 with 1 Axes>"
      ]
     },
     "metadata": {
      "needs_background": "light"
     },
     "output_type": "display_data"
    }
   ],
   "source": [
    "# Find the smallest rectangular polygon, that contains the object\n",
    "polygon_envelope = polygon.envelope\n",
    "plot_shp(polygon)\n",
    "plot_shp(polygon_envelope, 'y--')\n",
    "\n",
    "# Completing the plot\n",
    "plt.title(\"Envelope of a polygon\")\n",
    "plt.xlabel(\"x\")\n",
    "plt.ylabel(\"y\")"
   ]
  },
  {
   "cell_type": "code",
   "execution_count": 41,
   "metadata": {},
   "outputs": [
    {
     "data": {
      "text/plain": [
       "Text(0, 0.5, 'y')"
      ]
     },
     "execution_count": 41,
     "metadata": {},
     "output_type": "execute_result"
    },
    {
     "data": {
      "image/png": "[encoded data removed]",
      "text/plain": [
       "<Figure size 432x288 with 1 Axes>"
      ]
     },
     "metadata": {
      "needs_background": "light"
     },
     "output_type": "display_data"
    }
   ],
   "source": [
    "# Find the smallest rectangular polygon, that contains the object\n",
    "union_box_polygon_envelope = union_box_polygon.envelope\n",
    "plot_shp(union_box_polygon)\n",
    "plot_shp(union_box_polygon_envelope, 'y--')\n",
    "\n",
    "# Completing the plot\n",
    "plt.title(\"Envelope of the union of a box and a polygon\")\n",
    "plt.xlabel(\"x\")\n",
    "plt.ylabel(\"y\")"
   ]
  },
  {
   "cell_type": "markdown",
   "metadata": {},
   "source": [
    "#### 6.2.2 buffer"
   ]
  },
  {
   "cell_type": "markdown",
   "metadata": {},
   "source": [
    "The buffer operation approximates a polygon containing all points within the specified distance from the original geometry. Hence, we can use the buffer operation to create circles from points or up- and downscale existing geometries."
   ]
  },
  {
   "cell_type": "code",
   "execution_count": 42,
   "metadata": {},
   "outputs": [
    {
     "data": {
      "text/plain": [
       "Text(0, 0.5, 'y')"
      ]
     },
     "execution_count": 42,
     "metadata": {},
     "output_type": "execute_result"
    },
    {
     "data": {
      "image/png": "[encoded data removed]",
      "text/plain": [
       "<Figure size 432x288 with 1 Axes>"
      ]
     },
     "metadata": {
      "needs_background": "light"
     },
     "output_type": "display_data"
    }
   ],
   "source": [
    "# Lets approximate a circle around a Point\n",
    "circle = a.buffer(0.5)\n",
    "plot_shp(circle, 'y--')\n",
    "plot_shp(a)\n",
    "plt.axis('equal')\n",
    "\n",
    "# Completing the plot\n",
    "plt.title(\"A circle generated around a point\")\n",
    "plt.xlabel(\"x\")\n",
    "plt.ylabel(\"y\")"
   ]
  },
  {
   "cell_type": "code",
   "execution_count": 43,
   "metadata": {},
   "outputs": [
    {
     "data": {
      "text/plain": [
       "(-0.31, 4.31, -0.3599999992219337, 5.359999983660607)"
      ]
     },
     "execution_count": 43,
     "metadata": {},
     "output_type": "execute_result"
    },
    {
     "data": {
      "image/png": "[encoded data removed]",
      "text/plain": [
       "<Figure size 432x288 with 1 Axes>"
      ]
     },
     "metadata": {
      "needs_background": "light"
     },
     "output_type": "display_data"
    }
   ],
   "source": [
    "plot_shp(union_box_polygon) # Normal geometry\n",
    "plot_shp(union_box_polygon.buffer(0.1), 'y--') # Upscaled geometry\n",
    "plot_shp(union_box_polygon.buffer(-0.1), 'r--') # Shrunk geometry\n",
    "plt.axis('equal')"
   ]
  },
  {
   "cell_type": "markdown",
   "metadata": {},
   "source": [
    "#### 6.2.3 convex_hull"
   ]
  },
  {
   "cell_type": "markdown",
   "metadata": {},
   "source": [
    "The convex_hull operation is used to generate the smallest convex polygon that contains all elements of the base geometry. "
   ]
  },
  {
   "cell_type": "code",
   "execution_count": 44,
   "metadata": {},
   "outputs": [
    {
     "data": {
      "text/plain": [
       "Text(0, 0.5, 'y')"
      ]
     },
     "execution_count": 44,
     "metadata": {},
     "output_type": "execute_result"
    },
    {
     "data": {
      "image/png": "[encoded data removed]",
      "text/plain": [
       "<Figure size 432x288 with 1 Axes>"
      ]
     },
     "metadata": {
      "needs_background": "light"
     },
     "output_type": "display_data"
    }
   ],
   "source": [
    "# find the smallest convex hull that contains all points of the box_polygon union\n",
    "convex_hull_box_polygon = union_box_polygon.convex_hull\n",
    "plot_shp(union_box_polygon)\n",
    "plot_shp(convex_hull_box_polygon, 'y--')\n",
    "\n",
    "# Completing the plot\n",
    "plt.title(\"Convex hull of a polygon\")\n",
    "plt.xlabel(\"x\")\n",
    "plt.ylabel(\"y\")"
   ]
  }
 ],
 "metadata": {
  "kernelspec": {
   "display_name": "Python 3",
   "language": "python",
   "name": "python3"
  },
  "language_info": {
   "codemirror_mode": {
    "name": "ipython",
    "version": 3
   },
   "file_extension": ".py",
   "mimetype": "text/x-python",
   "name": "python",
   "nbconvert_exporter": "python",
   "pygments_lexer": "ipython3",
   "version": "3.6.8"
  }
 },
 "nbformat": 4,
 "nbformat_minor": 1
}
