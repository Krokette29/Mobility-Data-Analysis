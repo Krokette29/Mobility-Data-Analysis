{
 "cells": [
  {
   "cell_type": "markdown",
   "metadata": {},
   "source": [
    "# Exercise 3.4 - Relative positive acceleration\n",
    "\n",
    "## Introduction \n",
    "In this exercise we are going to investigate the acceleration in terms of the relative positive acceleration (RPA). The RPA is a measure for the frequency and intensity of positive accelerations. This exercise consists of two parts. In the first part, we are going to calculate the RPA of an exemplary day of our vehicle. The second part focuses on the analysis of the RPA per day. \n",
    "\n",
    "## Preparation\n",
    "First of all we need to import all necessary packages and modules. In this case we need:\n",
    "* pandas (pandas dataframes)\n",
    "* numpy (numpy arrays as well as various mathematical methods)\n",
    "* matplotlib.pyplot (plotting)"
   ]
  },
  {
   "cell_type": "code",
   "execution_count": 1,
   "metadata": {},
   "outputs": [],
   "source": [
    "import pandas as pd\n",
    "import numpy as np\n",
    "import matplotlib.pyplot as plt"
   ]
  },
  {
   "cell_type": "markdown",
   "metadata": {},
   "source": [
    "Further, we want to set the font size of all plots globally. "
   ]
  },
  {
   "cell_type": "code",
   "execution_count": 2,
   "metadata": {},
   "outputs": [],
   "source": [
    "# set font size of all plots globally\n",
    "plt.rcParams.update({'font.size': 16})"
   ]
  },
  {
   "cell_type": "markdown",
   "metadata": {},
   "source": [
    "## Data import - Part 1\n",
    "Here the necessary data for the first part of this exercise is imported and saved as a pandas dataframe using pandas read_pickle function. Further, we sort the dataframe chronologically. "
   ]
  },
  {
   "cell_type": "code",
   "execution_count": 3,
   "metadata": {},
   "outputs": [],
   "source": [
    "data_df = pd.read_pickle('data/e34_part1_data_df.pkl')"
   ]
  },
  {
   "cell_type": "markdown",
   "metadata": {},
   "source": [
    "## Available data - Part 1\n",
    "The data that is available for the following exercises is a pandas dataframe called data_df with the following rows:\n",
    "* time: timestamp as datetime64\n",
    "* distance: distance in m to the next time step\n",
    "* speed: speed values in m/s\n",
    "* time_diff: difference in s between two subsequent timestamps\n",
    "* acceleration: acceleration in m/s^2"
   ]
  },
  {
   "cell_type": "code",
   "execution_count": 4,
   "metadata": {},
   "outputs": [
    {
     "data": {
      "text/html": [
       "<div>\n",
       "<style scoped>\n",
       "    .dataframe tbody tr th:only-of-type {\n",
       "        vertical-align: middle;\n",
       "    }\n",
       "\n",
       "    .dataframe tbody tr th {\n",
       "        vertical-align: top;\n",
       "    }\n",
       "\n",
       "    .dataframe thead th {\n",
       "        text-align: right;\n",
       "    }\n",
       "</style>\n",
       "<table border=\"1\" class=\"dataframe\">\n",
       "  <thead>\n",
       "    <tr style=\"text-align: right;\">\n",
       "      <th></th>\n",
       "      <th>time</th>\n",
       "      <th>distance</th>\n",
       "      <th>speed</th>\n",
       "      <th>time_diff</th>\n",
       "      <th>acceleration</th>\n",
       "    </tr>\n",
       "  </thead>\n",
       "  <tbody>\n",
       "    <tr>\n",
       "      <th>0</th>\n",
       "      <td>2018-01-10 16:29:30</td>\n",
       "      <td>0.000000</td>\n",
       "      <td>0.00</td>\n",
       "      <td>1.0</td>\n",
       "      <td>2.00</td>\n",
       "    </tr>\n",
       "    <tr>\n",
       "      <th>1</th>\n",
       "      <td>2018-01-10 16:29:31</td>\n",
       "      <td>1.111008</td>\n",
       "      <td>2.00</td>\n",
       "      <td>1.0</td>\n",
       "      <td>0.75</td>\n",
       "    </tr>\n",
       "    <tr>\n",
       "      <th>2</th>\n",
       "      <td>2018-01-10 16:29:32</td>\n",
       "      <td>3.157773</td>\n",
       "      <td>2.75</td>\n",
       "      <td>1.0</td>\n",
       "      <td>0.25</td>\n",
       "    </tr>\n",
       "    <tr>\n",
       "      <th>3</th>\n",
       "      <td>2018-01-10 16:29:33</td>\n",
       "      <td>3.265216</td>\n",
       "      <td>3.00</td>\n",
       "      <td>1.0</td>\n",
       "      <td>3.50</td>\n",
       "    </tr>\n",
       "    <tr>\n",
       "      <th>4</th>\n",
       "      <td>2018-01-10 16:29:34</td>\n",
       "      <td>8.885284</td>\n",
       "      <td>6.50</td>\n",
       "      <td>1.0</td>\n",
       "      <td>0.25</td>\n",
       "    </tr>\n",
       "    <tr>\n",
       "      <th>...</th>\n",
       "      <td>...</td>\n",
       "      <td>...</td>\n",
       "      <td>...</td>\n",
       "      <td>...</td>\n",
       "      <td>...</td>\n",
       "    </tr>\n",
       "    <tr>\n",
       "      <th>855</th>\n",
       "      <td>2018-01-10 16:43:45</td>\n",
       "      <td>2.147746</td>\n",
       "      <td>2.50</td>\n",
       "      <td>1.0</td>\n",
       "      <td>-0.75</td>\n",
       "    </tr>\n",
       "    <tr>\n",
       "      <th>856</th>\n",
       "      <td>2018-01-10 16:43:46</td>\n",
       "      <td>1.601146</td>\n",
       "      <td>1.75</td>\n",
       "      <td>1.0</td>\n",
       "      <td>-0.75</td>\n",
       "    </tr>\n",
       "    <tr>\n",
       "      <th>857</th>\n",
       "      <td>2018-01-10 16:43:47</td>\n",
       "      <td>0.222390</td>\n",
       "      <td>1.00</td>\n",
       "      <td>1.0</td>\n",
       "      <td>-0.75</td>\n",
       "    </tr>\n",
       "    <tr>\n",
       "      <th>858</th>\n",
       "      <td>2018-01-10 16:43:48</td>\n",
       "      <td>2.220476</td>\n",
       "      <td>0.25</td>\n",
       "      <td>1.0</td>\n",
       "      <td>-0.25</td>\n",
       "    </tr>\n",
       "    <tr>\n",
       "      <th>859</th>\n",
       "      <td>2018-01-10 16:43:49</td>\n",
       "      <td>2.193997</td>\n",
       "      <td>0.00</td>\n",
       "      <td>0.0</td>\n",
       "      <td>0.00</td>\n",
       "    </tr>\n",
       "  </tbody>\n",
       "</table>\n",
       "<p>860 rows × 5 columns</p>\n",
       "</div>"
      ],
      "text/plain": [
       "                   time  distance  speed  time_diff  acceleration\n",
       "0   2018-01-10 16:29:30  0.000000   0.00        1.0          2.00\n",
       "1   2018-01-10 16:29:31  1.111008   2.00        1.0          0.75\n",
       "2   2018-01-10 16:29:32  3.157773   2.75        1.0          0.25\n",
       "3   2018-01-10 16:29:33  3.265216   3.00        1.0          3.50\n",
       "4   2018-01-10 16:29:34  8.885284   6.50        1.0          0.25\n",
       "..                  ...       ...    ...        ...           ...\n",
       "855 2018-01-10 16:43:45  2.147746   2.50        1.0         -0.75\n",
       "856 2018-01-10 16:43:46  1.601146   1.75        1.0         -0.75\n",
       "857 2018-01-10 16:43:47  0.222390   1.00        1.0         -0.75\n",
       "858 2018-01-10 16:43:48  2.220476   0.25        1.0         -0.25\n",
       "859 2018-01-10 16:43:49  2.193997   0.00        0.0          0.00\n",
       "\n",
       "[860 rows x 5 columns]"
      ]
     },
     "metadata": {},
     "output_type": "display_data"
    }
   ],
   "source": [
    "display(data_df)"
   ]
  },
  {
   "cell_type": "markdown",
   "metadata": {},
   "source": [
    "## Exercise 3.4.1 Calculate realative positive acceleration\n",
    "\n",
    "### Task\n",
    "The RPA is a measure for the frequency and intensity of positive accelerations. This exercise consists of two parts. It is calculated according to:\n",
    "$$RPA = \\frac{1}{d_{tot}} \\sum_{t=0}^{t_{final}} v \\cdot a^{+} \\cdot \\delta t$$\n",
    "\n",
    "where $d_{tot}$ is the total daily distance, $a^{+}$ indicates a positive acceleration, $v$ is the speed and $\\delta t$ is the duration until the next timestamp, i.e., time_diff.\n",
    "\n",
    "* Implement a function that calculates the relative positive acceleration for one day of our vehicle according to:\n",
    "* Test your function using the given data.\n",
    "\n",
    "##### Signature of the function\n",
    "rpa = calculate_relative_positive_acceleration(acceleration, speed, time_diff, distance) \n",
    "\n",
    "* INPUT: acceleration, speed, time_diff, distance as numpy arrays\n",
    "* OUPUT: rpa as scalar value \n",
    "\n",
    "###### Reminder\n",
    "-\n",
    "\n",
    "##### Hint\n",
    "-\n",
    "\n",
    "##### Solution\n",
    "rpa = 0.34727876393372664"
   ]
  },
  {
   "cell_type": "markdown",
   "metadata": {},
   "source": [
    "### Your code here:"
   ]
  },
  {
   "cell_type": "code",
   "execution_count": 5,
   "metadata": {},
   "outputs": [],
   "source": [
    "def calculate_relative_positive_acceleration(acceleration, speed, time_diff, distance):\n",
    "    d_tot = 0\n",
    "    rpa_sum = 0\n",
    "    \n",
    "    for i in range(len(distance)):\n",
    "        d_tot = d_tot + distance[i]\n",
    "        \n",
    "        if acceleration[i] > 0:\n",
    "            rpa_sum = rpa_sum + speed[i] * acceleration[i] * time_diff[i]        \n",
    "    \n",
    "    rpa = rpa_sum / d_tot\n",
    "    \n",
    "    return rpa"
   ]
  },
  {
   "cell_type": "code",
   "execution_count": 6,
   "metadata": {},
   "outputs": [
    {
     "data": {
      "text/plain": [
       "0.3472787639337259"
      ]
     },
     "execution_count": 6,
     "metadata": {},
     "output_type": "execute_result"
    }
   ],
   "source": [
    "calculate_relative_positive_acceleration(data_df.acceleration, data_df.speed, data_df.time_diff, data_df.distance)"
   ]
  },
  {
   "cell_type": "markdown",
   "metadata": {},
   "source": [
    "## Data import - Part 2\n",
    "Here the necessary data for the second part of this exercise is imported and saved as a pandas dataframe using pandas read_pickle function. Further, we sort the dataframe chronologically. "
   ]
  },
  {
   "cell_type": "code",
   "execution_count": 7,
   "metadata": {},
   "outputs": [],
   "source": [
    "data_df = pd.read_pickle('data/e34_part2_data_df.pkl')"
   ]
  },
  {
   "cell_type": "markdown",
   "metadata": {},
   "source": [
    "## Available data - Part 2\n",
    "The data that is available for the following exercises is a pandas dataframe called data_df with the following rows:\n",
    "* day: day as datetime64\n",
    "* rpa: rpa in m/s^2"
   ]
  },
  {
   "cell_type": "code",
   "execution_count": 8,
   "metadata": {},
   "outputs": [
    {
     "data": {
      "text/html": [
       "<div>\n",
       "<style scoped>\n",
       "    .dataframe tbody tr th:only-of-type {\n",
       "        vertical-align: middle;\n",
       "    }\n",
       "\n",
       "    .dataframe tbody tr th {\n",
       "        vertical-align: top;\n",
       "    }\n",
       "\n",
       "    .dataframe thead th {\n",
       "        text-align: right;\n",
       "    }\n",
       "</style>\n",
       "<table border=\"1\" class=\"dataframe\">\n",
       "  <thead>\n",
       "    <tr style=\"text-align: right;\">\n",
       "      <th></th>\n",
       "      <th>day</th>\n",
       "      <th>rpa</th>\n",
       "    </tr>\n",
       "  </thead>\n",
       "  <tbody>\n",
       "    <tr>\n",
       "      <th>0</th>\n",
       "      <td>2018-01-10 15:42:53</td>\n",
       "      <td>0.364283</td>\n",
       "    </tr>\n",
       "    <tr>\n",
       "      <th>1</th>\n",
       "      <td>2018-01-10 16:29:30</td>\n",
       "      <td>0.347279</td>\n",
       "    </tr>\n",
       "    <tr>\n",
       "      <th>2</th>\n",
       "      <td>2018-01-10 16:56:54</td>\n",
       "      <td>0.324305</td>\n",
       "    </tr>\n",
       "    <tr>\n",
       "      <th>3</th>\n",
       "      <td>2018-01-10 17:03:53</td>\n",
       "      <td>0.362872</td>\n",
       "    </tr>\n",
       "    <tr>\n",
       "      <th>4</th>\n",
       "      <td>2018-01-10 18:45:03</td>\n",
       "      <td>0.404759</td>\n",
       "    </tr>\n",
       "    <tr>\n",
       "      <th>...</th>\n",
       "      <td>...</td>\n",
       "      <td>...</td>\n",
       "    </tr>\n",
       "    <tr>\n",
       "      <th>428</th>\n",
       "      <td>2018-03-03 12:40:59</td>\n",
       "      <td>0.180929</td>\n",
       "    </tr>\n",
       "    <tr>\n",
       "      <th>429</th>\n",
       "      <td>2018-03-03 14:59:33</td>\n",
       "      <td>0.317544</td>\n",
       "    </tr>\n",
       "    <tr>\n",
       "      <th>430</th>\n",
       "      <td>2018-03-04 08:59:45</td>\n",
       "      <td>0.171854</td>\n",
       "    </tr>\n",
       "    <tr>\n",
       "      <th>431</th>\n",
       "      <td>2018-03-04 13:55:10</td>\n",
       "      <td>0.155865</td>\n",
       "    </tr>\n",
       "    <tr>\n",
       "      <th>432</th>\n",
       "      <td>2018-03-04 15:47:13</td>\n",
       "      <td>0.255136</td>\n",
       "    </tr>\n",
       "  </tbody>\n",
       "</table>\n",
       "<p>433 rows × 2 columns</p>\n",
       "</div>"
      ],
      "text/plain": [
       "                    day       rpa\n",
       "0   2018-01-10 15:42:53  0.364283\n",
       "1   2018-01-10 16:29:30  0.347279\n",
       "2   2018-01-10 16:56:54  0.324305\n",
       "3   2018-01-10 17:03:53  0.362872\n",
       "4   2018-01-10 18:45:03  0.404759\n",
       "..                  ...       ...\n",
       "428 2018-03-03 12:40:59  0.180929\n",
       "429 2018-03-03 14:59:33  0.317544\n",
       "430 2018-03-04 08:59:45  0.171854\n",
       "431 2018-03-04 13:55:10  0.155865\n",
       "432 2018-03-04 15:47:13  0.255136\n",
       "\n",
       "[433 rows x 2 columns]"
      ]
     },
     "metadata": {},
     "output_type": "display_data"
    }
   ],
   "source": [
    "display(data_df)"
   ]
  },
  {
   "cell_type": "markdown",
   "metadata": {},
   "source": [
    "## Exercise 3.4.2 Plot rpa using different box plot settings\n",
    "\n",
    "### Task\n",
    "In this task we are going to visualize the rpa per day using a box plot. \n",
    "1. Create a plot as depicted below. It consists of three subplots. The first one is a basic plot, i.e., no parameters are passed to the box plot function. In the second one outliers are hide. The last box plot uses whiskers, that includes all outliers. \n",
    "\n",
    "##### Signature of the script\n",
    "The signature of the script definies the interfaces (INPUT, OUTPUT) of the current task within this notebook. It is up to you, how you get from INPUT to OUTPUT.\n",
    "* INPUT: Pandas dataframe data_df\n",
    "* OUPUT: Plot as depicted below\n",
    "\n",
    "###### Reminder\n",
    "* The goal of a box plot is to compare graphically various data sets within one diagram.\n",
    "\n",
    "##### Hint\n",
    "* Use the official matplotlib documentation for further information (https://matplotlib.org/3.1.1/api/_as_gen/matplotlib.pyplot.boxplot.html)\n",
    "\n",
    "##### Solution\n",
    "![title](data/img/solution_e432.png)\n",
    "\n",
    "### Your code here:"
   ]
  },
  {
   "cell_type": "code",
   "execution_count": 9,
   "metadata": {},
   "outputs": [],
   "source": [
    "def plotRPAUsingDifferentBox(data_df):\n",
    "    fig, ax = plt.subplots(1, 3, figsize=(10,10))\n",
    "    \n",
    "    ax[0].boxplot(data_df.rpa)\n",
    "    ax[1].boxplot(data_df.rpa, showfliers=False)\n",
    "    ax[2].boxplot(data_df.rpa, whis='range')\n",
    "    \n",
    "    ax[0].set_ylim([-0.1, 0.7])\n",
    "    ax[0].grid(b=True, axis='y')\n",
    "    ax[1].set_ylim([-0.1, 0.7])\n",
    "    ax[1].grid(b=True, axis='y')\n",
    "    ax[2].set_ylim([-0.1, 0.7])\n",
    "    ax[2].grid(b=True, axis='y')\n",
    "    \n",
    "    ax[0].set(ylabel='Relative positive acceleration in m/s^2',\n",
    "              title='Basic plot')\n",
    "    \n",
    "    ax[1].set(title='Hide outliers')\n",
    "    \n",
    "    ax[2].set(title='Include outliers')\n"
   ]
  },
  {
   "cell_type": "code",
   "execution_count": 10,
   "metadata": {},
   "outputs": [
    {
     "data": {
      "image/png": "[encoded data removed]",
      "text/plain": [
       "<Figure size 720x720 with 3 Axes>"
      ]
     },
     "metadata": {
      "needs_background": "light"
     },
     "output_type": "display_data"
    }
   ],
   "source": [
    "plotRPAUsingDifferentBox(data_df)"
   ]
  },
  {
   "cell_type": "markdown",
   "metadata": {},
   "source": [
    "## Exercise 3.4.3 Calculate box plot characteristics\n",
    "\n",
    "### Task\n",
    "Now we are going to calculate all box plot characteristics manually. We will use them in later tasks.\n",
    "1. Calculate all statistical measures that are included in a boxplot manually.\n",
    "\n",
    "##### Signature of the script\n",
    "* INPUT: Pandas dataframe data_df\n",
    "* OUPUT: All statistical measures that are usually included in a box plot.\n",
    "\n",
    "###### Reminder\n",
    "Statistical measures that are usually included:<br/> \n",
    "* Median, Maximum and minimum  \n",
    "* Quartiles (Q1 and Q3) and Interquartile range (IQR = Q3 – Q1)\n",
    "* Whiskers (indicating  variability outside the Q1 and Q3): \n",
    "* Lower whisker: Q1 – 1.5*IQR\n",
    "* Upper whisker: Q3 + 1.5*IQR\n",
    "* Outliers\n",
    "\n",
    "##### Hint\n",
    "The whiskers, that are depicted in a box plot, represents real values. The upper whisker will extend to the last value less than (Q3 + whis * IQR). Similarly, the lower whisker will extend to the first value greater than (Q1 - whis * IQR). \n",
    "see https://matplotlib.org/3.1.1/api/_as_gen/matplotlib.pyplot.boxplot.html\n",
    "\n",
    "##### Solution\n",
    "minimum = 0.00088893<br/>\n",
    "maximum = 0.609692<br/>\n",
    "median = 0.318714<br/>\n",
    "lower_quartile = 0.267899<br/>\n",
    "upper_quartile = 0.377053<br/>\n",
    "lower_whisker = 0.111165<br/>\n",
    "upper_whisker = 0.539693<br/>\n",
    "\n",
    "### Your code here:"
   ]
  },
  {
   "cell_type": "code",
   "execution_count": 11,
   "metadata": {},
   "outputs": [],
   "source": [
    "def calculateBoxPlotCharacteristics(data_df):\n",
    "    result = {}\n",
    "    \n",
    "    result[\"minimum\"] = np.min(data_df.rpa)\n",
    "    result[\"maximum\"] = np.max(data_df.rpa)\n",
    "    result[\"median\"] = np.median(data_df.rpa)\n",
    "    \n",
    "    q1 = np.percentile(data_df.rpa, 25)\n",
    "    q3 = np.percentile(data_df.rpa, 75)\n",
    "    iqr = q3 - q1\n",
    "    result[\"lower_quartile\"] = q1\n",
    "    result[\"upper_quartile\"] = q3\n",
    "    \n",
    "    lower_whisker = q1 - 1.5 * iqr\n",
    "    upper_whisker = q3 + 1.5 * iqr\n",
    "    rpa_sort = np.sort(data_df.rpa)\n",
    "    for i in range(len(rpa_sort)):\n",
    "        if rpa_sort[i] > lower_whisker:\n",
    "            result[\"lower_whisker\"] = rpa_sort[i]\n",
    "            break\n",
    "    for i in reversed(range(len(rpa_sort))):\n",
    "        if rpa_sort[i] < upper_whisker:\n",
    "            result[\"upper_whisker\"] = rpa_sort[i]\n",
    "            break\n",
    "    \n",
    "    return result"
   ]
  },
  {
   "cell_type": "code",
   "execution_count": 12,
   "metadata": {},
   "outputs": [
    {
     "name": "stdout",
     "output_type": "stream",
     "text": [
      "{'minimum': 0.00088893, 'maximum': 0.609692, 'median': 0.318714, 'lower_quartile': 0.267899, 'upper_quartile': 0.377053, 'lower_whisker': 0.111165, 'upper_whisker': 0.539693}\n"
     ]
    }
   ],
   "source": [
    "print(calculateBoxPlotCharacteristics(data_df))"
   ]
  },
  {
   "cell_type": "markdown",
   "metadata": {},
   "source": [
    "## Exercise 3.4.4 Compare box plot and histogram\n",
    "\n",
    "### Task\n",
    "Finally, we are going to visualize all box plot characeteristics inside of a histogram und compare the resulting plot with the box plot. \n",
    "1. Create a plot as depicted below. Set the number of bins of the histogram to the number of rpa values. \n",
    "\n",
    "##### Signature of the script\n",
    "* INPUT: Pandas dataframe data_df\n",
    "* OUPUT: Plot as depicted below\n",
    "\n",
    "###### Reminder\n",
    "-\n",
    "\n",
    "##### Hint\n",
    "* By passing gridspec_kw={'hspace': 0} to the subplot function you can hide the vertical space between two superposed subplots.\n",
    "* In order to get the same plot styling as depicted below, you need to use following parameters: alpha=0.2, edgecolor='blue'\n",
    "\n",
    "##### Solution\n",
    "![title](data/img/solution_e433.png)\n",
    "\n",
    "### Your code here:"
   ]
  },
  {
   "cell_type": "code",
   "execution_count": 13,
   "metadata": {},
   "outputs": [
    {
     "data": {
      "text/plain": [
       "(array([0.22760747, 0.        , 0.        , 0.68282242, 2.27607475,\n",
       "        0.68282242, 0.45521495, 1.36564485, 0.22760747, 0.45521495,\n",
       "        0.45521495, 0.        , 0.22760747, 0.        , 0.22760747,\n",
       "        0.9104299 , 0.22760747, 0.68282242, 0.9104299 , 0.9104299 ,\n",
       "        1.36564485, 1.36564485, 2.04846727, 2.04846727, 1.59325232,\n",
       "        4.09693454, 3.18650465, 4.77975697, 6.37300929, 5.69018687,\n",
       "        3.41411212, 6.14540182, 2.95889717, 3.18650465, 5.69018687,\n",
       "        5.46257939, 3.18650465, 5.00736444, 3.41411212, 2.95889717,\n",
       "        2.27607475, 2.50368222, 1.36564485, 1.36564485, 1.36564485,\n",
       "        0.22760747, 0.45521495, 0.22760747, 0.22760747, 0.45521495,\n",
       "        1.13803737, 0.22760747, 0.45521495, 0.22760747, 0.22760747,\n",
       "        0.22760747, 0.        , 0.22760747, 0.22760747, 0.22760747]),\n",
       " array([0.00088893, 0.01103565, 0.02118237, 0.03132908, 0.0414758 ,\n",
       "        0.05162252, 0.06176924, 0.07191595, 0.08206267, 0.09220939,\n",
       "        0.10235611, 0.11250283, 0.12264954, 0.13279626, 0.14294298,\n",
       "        0.1530897 , 0.16323642, 0.17338313, 0.18352985, 0.19367657,\n",
       "        0.20382329, 0.21397   , 0.22411672, 0.23426344, 0.24441016,\n",
       "        0.25455688, 0.26470359, 0.27485031, 0.28499703, 0.29514375,\n",
       "        0.30529047, 0.31543718, 0.3255839 , 0.33573062, 0.34587734,\n",
       "        0.35602405, 0.36617077, 0.37631749, 0.38646421, 0.39661093,\n",
       "        0.40675764, 0.41690436, 0.42705108, 0.4371978 , 0.44734451,\n",
       "        0.45749123, 0.46763795, 0.47778467, 0.48793139, 0.4980781 ,\n",
       "        0.50822482, 0.51837154, 0.52851826, 0.53866498, 0.54881169,\n",
       "        0.55895841, 0.56910513, 0.57925185, 0.58939856, 0.59954528,\n",
       "        0.609692  ]),\n",
       " <a list of 60 Patch objects>)"
      ]
     },
     "execution_count": 13,
     "metadata": {},
     "output_type": "execute_result"
    },
    {
     "data": {
      "image/png": "[encoded data removed]",
      "text/plain": [
       "<Figure size 432x288 with 1 Axes>"
      ]
     },
     "metadata": {
      "needs_background": "light"
     },
     "output_type": "display_data"
    }
   ],
   "source": [
    "fig, ax = plt.subplots()\n",
    "ax.hist(data_df.rpa, density=True, bins=60)"
   ]
  },
  {
   "cell_type": "code",
   "execution_count": 39,
   "metadata": {},
   "outputs": [],
   "source": [
    "def plotBoxAndHistogram(data_df):\n",
    "    result = calculateBoxPlotCharacteristics(data_df)\n",
    "    \n",
    "    fig, ax = plt.subplots(2, 1, gridspec_kw={'hspace':0}, figsize=(10,8))\n",
    "    \n",
    "    ax[0].boxplot(data_df.rpa, vert=False)\n",
    "    \n",
    "    weights = np.ones_like(data_df.rpa)/float(len(data_df.rpa))\n",
    "    ax[1].hist(data_df.rpa, bins=60, alpha=0.2, edgecolor='blue', weights=weights)\n",
    "    \n",
    "    ax[0].grid(b=True, axis='x')\n",
    "    ax[1].grid(b=True)\n",
    "    \n",
    "    ax[1].set(xlabel='Relative positive acceleration in m/s^2',\n",
    "              ylabel='Relative frequency')\n",
    "    \n",
    "    # calculate the characteristics of bosplot\n",
    "    result = calculateBoxPlotCharacteristics(data_df)\n",
    "    \n",
    "    ax[1].vlines(result['maximum'], 0, 0.1)\n",
    "    ax[1].vlines(result['minimum'], 0, 0.1)\n",
    "    ax[1].vlines(result['lower_quartile'], 0, 0.1)\n",
    "    ax[1].vlines(result['upper_quartile'], 0, 0.1)\n",
    "    ax[1].vlines(result['lower_whisker'], 0, 0.1)\n",
    "    ax[1].vlines(result['upper_whisker'], 0, 0.1)\n",
    "    ax[1].vlines(result['median'], 0, 0.1, color='orange')\n",
    "    \n",
    "    ax[1].set_ylim([0, 0.07])\n",
    "    "
   ]
  },
  {
   "cell_type": "code",
   "execution_count": 40,
   "metadata": {
    "scrolled": true
   },
   "outputs": [
    {
     "data": {
      "image/png": "[encoded data removed]",
      "text/plain": [
       "<Figure size 720x576 with 2 Axes>"
      ]
     },
     "metadata": {
      "needs_background": "light"
     },
     "output_type": "display_data"
    }
   ],
   "source": [
    "plotBoxAndHistogram(data_df)"
   ]
  }
 ],
 "metadata": {
  "kernelspec": {
   "display_name": "Python 3",
   "language": "python",
   "name": "python3"
  },
  "language_info": {
   "codemirror_mode": {
    "name": "ipython",
    "version": 3
   },
   "file_extension": ".py",
   "mimetype": "text/x-python",
   "name": "python",
   "nbconvert_exporter": "python",
   "pygments_lexer": "ipython3",
   "version": "3.6.8"
  }
 },
 "nbformat": 4,
 "nbformat_minor": 2
}
