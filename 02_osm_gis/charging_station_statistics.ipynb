{
 "cells": [
  {
   "cell_type": "markdown",
   "metadata": {},
   "source": [
    "# OSM - Charging Station Statistics"
   ]
  },
  {
   "cell_type": "markdown",
   "metadata": {},
   "source": [
    "## 0 Imports and Paths"
   ]
  },
  {
   "cell_type": "markdown",
   "metadata": {},
   "source": [
    "The following packages will be needed for this notebook. Make sure you have them installed in your environment!"
   ]
  },
  {
   "cell_type": "code",
   "execution_count": 25,
   "metadata": {},
   "outputs": [],
   "source": [
    "# Imports:\n",
    "import geopandas as gpd\n",
    "import pandas as pd\n",
    "import os\n",
    "import mplleaflet\n",
    "from matplotlib import pyplot as plt"
   ]
  },
  {
   "cell_type": "markdown",
   "metadata": {},
   "source": [
    "Paths for in- and output files:"
   ]
  },
  {
   "cell_type": "code",
   "execution_count": 2,
   "metadata": {},
   "outputs": [],
   "source": [
    "# INPUT OPTIONS\n",
    "CS_SOURCE_DIR = os.path.abspath(\"./data/out\")\n",
    "CS_DATA_FILENAME = \"osm_cs.geojson\"\n",
    "DISTRICTS_SOURCE_DIR = os.path.abspath(\"./data\")\n",
    "DISTRICTS_SHP_FILENAME = \"muenchen.shp\"\n",
    "\n",
    "# OUTPUT OPTIONS\n",
    "OUT_DIR = os.path.abspath(\"./data/out\")\n",
    "MAP_OUT_FILENAME = \"cs_map.html\"\n",
    "OPERATOR_HIST = 'operator_hist.html'"
   ]
  },
  {
   "cell_type": "markdown",
   "metadata": {},
   "source": [
    "## 1 Introduction"
   ]
  },
  {
   "cell_type": "markdown",
   "metadata": {},
   "source": [
    "In this notebook, we take a look at the charging station data retrieved from open street maps in the last exercise. Therefore, we analyze specific features of the charging stations (CS) like locations and operators. We want to extract the following information:\n",
    "    \n",
    "    1. Number of CS per district (per \"Bezirksteil\")\n",
    "    2. Density of CS: Number of CS per squarekm (for each district)\n",
    "    3. Number of CS per operator\n",
    "\n",
    "In order to answer these questions, we perform the following steps:\n",
    "\n",
    "    1. Loading districts of Munich and sorting out the irrelevant elements (Section 2)\n",
    "    2. Loading charging station data (Section 2)\n",
    "    3. Exploring the CS data set regarding specific tags (voltage, amperage, operator and number of outlets; Section 3)\n",
    "    4. Cleaning the operator tags (Section 3)\n",
    "    5. Calculate and visualize the statistics (Section 3 and 4)"
   ]
  },
  {
   "cell_type": "markdown",
   "metadata": {},
   "source": [
    "## 2 Load Input Data"
   ]
  },
  {
   "cell_type": "markdown",
   "metadata": {},
   "source": [
    "First of all, import the two data sources into geopandas dataframes:\n",
    "\n",
    "    1. dataframe \"munich_districts\": The districts of Munich are given as polygons in a shapefile.\n",
    "    2. dataframe \"munich_cs\": The CS data is given as a GeoJSON file.\n",
    "    \n",
    "Info: In order to import the data, use the function \"read_file\" from geopandas!"
   ]
  },
  {
   "cell_type": "code",
   "execution_count": 139,
   "metadata": {},
   "outputs": [],
   "source": [
    "# Load shapefile\n",
    "munich_districts = gpd.read_file(os.path.join(DISTRICTS_SOURCE_DIR,DISTRICTS_SHP_FILENAME))\n",
    "\n",
    "# Load charging station data\n",
    "munich_cs = gpd.read_file(os.path.join(CS_SOURCE_DIR,CS_DATA_FILENAME), driver='GeoJSON')"
   ]
  },
  {
   "cell_type": "markdown",
   "metadata": {},
   "source": [
    "Look at the data in munich_districts: It contains not only districts, which are of type \"Bezirksteil\". It also includes the less detailed \"Stadtbezirke\" as well as the \"Stadt München\". For the subsequent analysis you only need \"Bezirksteile\"."
   ]
  },
  {
   "cell_type": "code",
   "execution_count": 47,
   "metadata": {},
   "outputs": [
    {
     "data": {
      "text/html": [
       "<div>\n",
       "<style scoped>\n",
       "    .dataframe tbody tr th:only-of-type {\n",
       "        vertical-align: middle;\n",
       "    }\n",
       "\n",
       "    .dataframe tbody tr th {\n",
       "        vertical-align: top;\n",
       "    }\n",
       "\n",
       "    .dataframe thead th {\n",
       "        text-align: right;\n",
       "    }\n",
       "</style>\n",
       "<table border=\"1\" class=\"dataframe\">\n",
       "  <thead>\n",
       "    <tr style=\"text-align: right;\">\n",
       "      <th></th>\n",
       "      <th>osm_id</th>\n",
       "      <th>name</th>\n",
       "      <th>administra</th>\n",
       "      <th>admin_leve</th>\n",
       "      <th>member_of</th>\n",
       "      <th>geometry</th>\n",
       "    </tr>\n",
       "  </thead>\n",
       "  <tbody>\n",
       "    <tr>\n",
       "      <th>0</th>\n",
       "      <td>66803</td>\n",
       "      <td>Bezirksteil Altaubing</td>\n",
       "      <td>22.1</td>\n",
       "      <td>10</td>\n",
       "      <td>54382.0</td>\n",
       "      <td>POLYGON ((11.36774 48.16811, 11.36778 48.16819...</td>\n",
       "    </tr>\n",
       "    <tr>\n",
       "      <th>1</th>\n",
       "      <td>66108</td>\n",
       "      <td>Bezirksteil Altbogenhausen</td>\n",
       "      <td>13.7</td>\n",
       "      <td>10</td>\n",
       "      <td>56392.0</td>\n",
       "      <td>POLYGON ((11.59522 48.14166, 11.59693 48.14579...</td>\n",
       "    </tr>\n",
       "    <tr>\n",
       "      <th>2</th>\n",
       "      <td>66104</td>\n",
       "      <td>Bezirksteil Alte Heide-Hirschau</td>\n",
       "      <td>12.3</td>\n",
       "      <td>10</td>\n",
       "      <td>56390.0</td>\n",
       "      <td>POLYGON ((11.58420 48.19040, 11.58443 48.19040...</td>\n",
       "    </tr>\n",
       "    <tr>\n",
       "      <th>3</th>\n",
       "      <td>66784</td>\n",
       "      <td>Bezirksteil Alte Kaserne</td>\n",
       "      <td>09.5</td>\n",
       "      <td>10</td>\n",
       "      <td>54387.0</td>\n",
       "      <td>POLYGON ((11.53978 48.15540, 11.54255 48.15685...</td>\n",
       "    </tr>\n",
       "    <tr>\n",
       "      <th>4</th>\n",
       "      <td>2624998</td>\n",
       "      <td>Bezirksteil Alt Moosach</td>\n",
       "      <td>10.1</td>\n",
       "      <td>10</td>\n",
       "      <td>54385.0</td>\n",
       "      <td>POLYGON ((11.50197 48.19237, 11.50514 48.19620...</td>\n",
       "    </tr>\n",
       "    <tr>\n",
       "      <th>...</th>\n",
       "      <td>...</td>\n",
       "      <td>...</td>\n",
       "      <td>...</td>\n",
       "      <td>...</td>\n",
       "      <td>...</td>\n",
       "      <td>...</td>\n",
       "    </tr>\n",
       "    <tr>\n",
       "      <th>129</th>\n",
       "      <td>54375</td>\n",
       "      <td>Stadtbezirk Sendling-Westpark</td>\n",
       "      <td>07</td>\n",
       "      <td>9</td>\n",
       "      <td>62428.0</td>\n",
       "      <td>POLYGON ((11.50167 48.10273, 11.50214 48.10465...</td>\n",
       "    </tr>\n",
       "    <tr>\n",
       "      <th>130</th>\n",
       "      <td>54373</td>\n",
       "      <td>Stadtbezirk Thalkirchen-Obersendling-Forstenri...</td>\n",
       "      <td>19</td>\n",
       "      <td>9</td>\n",
       "      <td>62428.0</td>\n",
       "      <td>POLYGON ((11.47094 48.08300, 11.47097 48.08316...</td>\n",
       "    </tr>\n",
       "    <tr>\n",
       "      <th>131</th>\n",
       "      <td>52747</td>\n",
       "      <td>Stadtbezirk Trudering-Riem</td>\n",
       "      <td>15</td>\n",
       "      <td>9</td>\n",
       "      <td>62428.0</td>\n",
       "      <td>POLYGON ((11.63990 48.11694, 11.64190 48.12053...</td>\n",
       "    </tr>\n",
       "    <tr>\n",
       "      <th>132</th>\n",
       "      <td>56395</td>\n",
       "      <td>Stadtbezirk Untergiesing-Harlaching</td>\n",
       "      <td>18</td>\n",
       "      <td>9</td>\n",
       "      <td>62428.0</td>\n",
       "      <td>POLYGON ((11.54170 48.07604, 11.54195 48.07690...</td>\n",
       "    </tr>\n",
       "    <tr>\n",
       "      <th>133</th>\n",
       "      <td>62428</td>\n",
       "      <td>Stadt München</td>\n",
       "      <td>None</td>\n",
       "      <td>6</td>\n",
       "      <td>NaN</td>\n",
       "      <td>POLYGON ((11.36078 48.15820, 11.36107 48.15871...</td>\n",
       "    </tr>\n",
       "  </tbody>\n",
       "</table>\n",
       "<p>134 rows × 6 columns</p>\n",
       "</div>"
      ],
      "text/plain": [
       "      osm_id                                               name administra  \\\n",
       "0      66803                              Bezirksteil Altaubing       22.1   \n",
       "1      66108                         Bezirksteil Altbogenhausen       13.7   \n",
       "2      66104                    Bezirksteil Alte Heide-Hirschau       12.3   \n",
       "3      66784                           Bezirksteil Alte Kaserne       09.5   \n",
       "4    2624998                            Bezirksteil Alt Moosach       10.1   \n",
       "..       ...                                                ...        ...   \n",
       "129    54375                      Stadtbezirk Sendling-Westpark         07   \n",
       "130    54373  Stadtbezirk Thalkirchen-Obersendling-Forstenri...         19   \n",
       "131    52747                         Stadtbezirk Trudering-Riem         15   \n",
       "132    56395                Stadtbezirk Untergiesing-Harlaching         18   \n",
       "133    62428                                      Stadt München       None   \n",
       "\n",
       "     admin_leve  member_of                                           geometry  \n",
       "0            10    54382.0  POLYGON ((11.36774 48.16811, 11.36778 48.16819...  \n",
       "1            10    56392.0  POLYGON ((11.59522 48.14166, 11.59693 48.14579...  \n",
       "2            10    56390.0  POLYGON ((11.58420 48.19040, 11.58443 48.19040...  \n",
       "3            10    54387.0  POLYGON ((11.53978 48.15540, 11.54255 48.15685...  \n",
       "4            10    54385.0  POLYGON ((11.50197 48.19237, 11.50514 48.19620...  \n",
       "..          ...        ...                                                ...  \n",
       "129           9    62428.0  POLYGON ((11.50167 48.10273, 11.50214 48.10465...  \n",
       "130           9    62428.0  POLYGON ((11.47094 48.08300, 11.47097 48.08316...  \n",
       "131           9    62428.0  POLYGON ((11.63990 48.11694, 11.64190 48.12053...  \n",
       "132           9    62428.0  POLYGON ((11.54170 48.07604, 11.54195 48.07690...  \n",
       "133           6        NaN  POLYGON ((11.36078 48.15820, 11.36107 48.15871...  \n",
       "\n",
       "[134 rows x 6 columns]"
      ]
     },
     "execution_count": 47,
     "metadata": {},
     "output_type": "execute_result"
    }
   ],
   "source": [
    "munich_districts"
   ]
  },
  {
   "cell_type": "markdown",
   "metadata": {},
   "source": [
    "Therfore, filter the munich_districts to extract all areas, which are of type \"Bezirksteil\".\n",
    "\n",
    "Hint: There is a more comfortable way than filtering the dataframe by \"name\"."
   ]
  },
  {
   "cell_type": "code",
   "execution_count": 92,
   "metadata": {},
   "outputs": [],
   "source": [
    "# Filter \"munich_districts\" to extract all areas of type \"Bezirksteil\", overwrite the variable \"munich_districts\":\n",
    "bezirksteil_in_munich_districts = [\"Bezirksteil\" in munich_districts.at[i, \"name\"] for i in range(len(munich_districts))]\n",
    "munich_districts = munich_districts.loc[bezirksteil_in_munich_districts]\n"
   ]
  },
  {
   "cell_type": "code",
   "execution_count": 93,
   "metadata": {},
   "outputs": [
    {
     "data": {
      "text/html": [
       "<div>\n",
       "<style scoped>\n",
       "    .dataframe tbody tr th:only-of-type {\n",
       "        vertical-align: middle;\n",
       "    }\n",
       "\n",
       "    .dataframe tbody tr th {\n",
       "        vertical-align: top;\n",
       "    }\n",
       "\n",
       "    .dataframe thead th {\n",
       "        text-align: right;\n",
       "    }\n",
       "</style>\n",
       "<table border=\"1\" class=\"dataframe\">\n",
       "  <thead>\n",
       "    <tr style=\"text-align: right;\">\n",
       "      <th></th>\n",
       "      <th>osm_id</th>\n",
       "      <th>name</th>\n",
       "      <th>administra</th>\n",
       "      <th>admin_leve</th>\n",
       "      <th>member_of</th>\n",
       "      <th>geometry</th>\n",
       "    </tr>\n",
       "  </thead>\n",
       "  <tbody>\n",
       "    <tr>\n",
       "      <th>0</th>\n",
       "      <td>66803</td>\n",
       "      <td>Bezirksteil Altaubing</td>\n",
       "      <td>22.1</td>\n",
       "      <td>10</td>\n",
       "      <td>54382.0</td>\n",
       "      <td>POLYGON ((11.36774 48.16811, 11.36778 48.16819...</td>\n",
       "    </tr>\n",
       "    <tr>\n",
       "      <th>1</th>\n",
       "      <td>66108</td>\n",
       "      <td>Bezirksteil Altbogenhausen</td>\n",
       "      <td>13.7</td>\n",
       "      <td>10</td>\n",
       "      <td>56392.0</td>\n",
       "      <td>POLYGON ((11.59522 48.14166, 11.59693 48.14579...</td>\n",
       "    </tr>\n",
       "    <tr>\n",
       "      <th>2</th>\n",
       "      <td>66104</td>\n",
       "      <td>Bezirksteil Alte Heide-Hirschau</td>\n",
       "      <td>12.3</td>\n",
       "      <td>10</td>\n",
       "      <td>56390.0</td>\n",
       "      <td>POLYGON ((11.58420 48.19040, 11.58443 48.19040...</td>\n",
       "    </tr>\n",
       "    <tr>\n",
       "      <th>3</th>\n",
       "      <td>66784</td>\n",
       "      <td>Bezirksteil Alte Kaserne</td>\n",
       "      <td>09.5</td>\n",
       "      <td>10</td>\n",
       "      <td>54387.0</td>\n",
       "      <td>POLYGON ((11.53978 48.15540, 11.54255 48.15685...</td>\n",
       "    </tr>\n",
       "    <tr>\n",
       "      <th>4</th>\n",
       "      <td>2624998</td>\n",
       "      <td>Bezirksteil Alt Moosach</td>\n",
       "      <td>10.1</td>\n",
       "      <td>10</td>\n",
       "      <td>54385.0</td>\n",
       "      <td>POLYGON ((11.50197 48.19237, 11.50514 48.19620...</td>\n",
       "    </tr>\n",
       "    <tr>\n",
       "      <th>...</th>\n",
       "      <td>...</td>\n",
       "      <td>...</td>\n",
       "      <td>...</td>\n",
       "      <td>...</td>\n",
       "      <td>...</td>\n",
       "      <td>...</td>\n",
       "    </tr>\n",
       "    <tr>\n",
       "      <th>103</th>\n",
       "      <td>66802</td>\n",
       "      <td>Bezirksteil Untermenzing-Allach</td>\n",
       "      <td>23.2</td>\n",
       "      <td>10</td>\n",
       "      <td>54383.0</td>\n",
       "      <td>POLYGON ((11.43047 48.18875, 11.43089 48.19342...</td>\n",
       "    </tr>\n",
       "    <tr>\n",
       "      <th>104</th>\n",
       "      <td>66980</td>\n",
       "      <td>Bezirksteil Untersendling</td>\n",
       "      <td>06.1</td>\n",
       "      <td>10</td>\n",
       "      <td>54393.0</td>\n",
       "      <td>POLYGON ((11.53504 48.13033, 11.53884 48.12893...</td>\n",
       "    </tr>\n",
       "    <tr>\n",
       "      <th>105</th>\n",
       "      <td>66963</td>\n",
       "      <td>Bezirksteil Waldperlach</td>\n",
       "      <td>16.5</td>\n",
       "      <td>10</td>\n",
       "      <td>56397.0</td>\n",
       "      <td>POLYGON ((11.65426 48.08050, 11.65496 48.08598...</td>\n",
       "    </tr>\n",
       "    <tr>\n",
       "      <th>106</th>\n",
       "      <td>52208</td>\n",
       "      <td>Bezirksteil Waldtrudering</td>\n",
       "      <td>15.4</td>\n",
       "      <td>10</td>\n",
       "      <td>52747.0</td>\n",
       "      <td>POLYGON ((11.66050 48.10245, 11.66118 48.10388...</td>\n",
       "    </tr>\n",
       "    <tr>\n",
       "      <th>107</th>\n",
       "      <td>67194</td>\n",
       "      <td>Bezirksteil Westend</td>\n",
       "      <td>08.1</td>\n",
       "      <td>10</td>\n",
       "      <td>54390.0</td>\n",
       "      <td>POLYGON ((11.52619 48.13789, 11.52633 48.13911...</td>\n",
       "    </tr>\n",
       "  </tbody>\n",
       "</table>\n",
       "<p>108 rows × 6 columns</p>\n",
       "</div>"
      ],
      "text/plain": [
       "      osm_id                             name administra  admin_leve  \\\n",
       "0      66803            Bezirksteil Altaubing       22.1          10   \n",
       "1      66108       Bezirksteil Altbogenhausen       13.7          10   \n",
       "2      66104  Bezirksteil Alte Heide-Hirschau       12.3          10   \n",
       "3      66784         Bezirksteil Alte Kaserne       09.5          10   \n",
       "4    2624998          Bezirksteil Alt Moosach       10.1          10   \n",
       "..       ...                              ...        ...         ...   \n",
       "103    66802  Bezirksteil Untermenzing-Allach       23.2          10   \n",
       "104    66980        Bezirksteil Untersendling       06.1          10   \n",
       "105    66963          Bezirksteil Waldperlach       16.5          10   \n",
       "106    52208        Bezirksteil Waldtrudering       15.4          10   \n",
       "107    67194              Bezirksteil Westend       08.1          10   \n",
       "\n",
       "     member_of                                           geometry  \n",
       "0      54382.0  POLYGON ((11.36774 48.16811, 11.36778 48.16819...  \n",
       "1      56392.0  POLYGON ((11.59522 48.14166, 11.59693 48.14579...  \n",
       "2      56390.0  POLYGON ((11.58420 48.19040, 11.58443 48.19040...  \n",
       "3      54387.0  POLYGON ((11.53978 48.15540, 11.54255 48.15685...  \n",
       "4      54385.0  POLYGON ((11.50197 48.19237, 11.50514 48.19620...  \n",
       "..         ...                                                ...  \n",
       "103    54383.0  POLYGON ((11.43047 48.18875, 11.43089 48.19342...  \n",
       "104    54393.0  POLYGON ((11.53504 48.13033, 11.53884 48.12893...  \n",
       "105    56397.0  POLYGON ((11.65426 48.08050, 11.65496 48.08598...  \n",
       "106    52747.0  POLYGON ((11.66050 48.10245, 11.66118 48.10388...  \n",
       "107    54390.0  POLYGON ((11.52619 48.13789, 11.52633 48.13911...  \n",
       "\n",
       "[108 rows x 6 columns]"
      ]
     },
     "execution_count": 93,
     "metadata": {},
     "output_type": "execute_result"
    }
   ],
   "source": [
    "munich_districts"
   ]
  },
  {
   "cell_type": "code",
   "execution_count": 140,
   "metadata": {},
   "outputs": [
    {
     "data": {
      "text/html": [
       "<div>\n",
       "<style scoped>\n",
       "    .dataframe tbody tr th:only-of-type {\n",
       "        vertical-align: middle;\n",
       "    }\n",
       "\n",
       "    .dataframe tbody tr th {\n",
       "        vertical-align: top;\n",
       "    }\n",
       "\n",
       "    .dataframe thead th {\n",
       "        text-align: right;\n",
       "    }\n",
       "</style>\n",
       "<table border=\"1\" class=\"dataframe\">\n",
       "  <thead>\n",
       "    <tr style=\"text-align: right;\">\n",
       "      <th></th>\n",
       "      <th>operator</th>\n",
       "      <th>capacity</th>\n",
       "      <th>amperage</th>\n",
       "      <th>voltage</th>\n",
       "      <th>id</th>\n",
       "      <th>geometry</th>\n",
       "    </tr>\n",
       "  </thead>\n",
       "  <tbody>\n",
       "    <tr>\n",
       "      <th>0</th>\n",
       "      <td>Stadt München</td>\n",
       "      <td>None</td>\n",
       "      <td>None</td>\n",
       "      <td>None</td>\n",
       "      <td>4.013012e+08</td>\n",
       "      <td>POINT (11.57398 48.15893)</td>\n",
       "    </tr>\n",
       "    <tr>\n",
       "      <th>1</th>\n",
       "      <td>None</td>\n",
       "      <td>None</td>\n",
       "      <td>32</td>\n",
       "      <td>400</td>\n",
       "      <td>1.271358e+09</td>\n",
       "      <td>POINT (11.68969 48.13300)</td>\n",
       "    </tr>\n",
       "    <tr>\n",
       "      <th>2</th>\n",
       "      <td>E.On</td>\n",
       "      <td>None</td>\n",
       "      <td>None</td>\n",
       "      <td>None</td>\n",
       "      <td>1.330522e+09</td>\n",
       "      <td>POINT (11.54603 48.13266)</td>\n",
       "    </tr>\n",
       "    <tr>\n",
       "      <th>3</th>\n",
       "      <td>Stadtwerke München</td>\n",
       "      <td>2</td>\n",
       "      <td>None</td>\n",
       "      <td>None</td>\n",
       "      <td>1.475946e+09</td>\n",
       "      <td>POINT (11.53757 48.15324)</td>\n",
       "    </tr>\n",
       "    <tr>\n",
       "      <th>4</th>\n",
       "      <td>None</td>\n",
       "      <td>None</td>\n",
       "      <td>None</td>\n",
       "      <td>None</td>\n",
       "      <td>1.895124e+09</td>\n",
       "      <td>POINT (11.52806 48.13335)</td>\n",
       "    </tr>\n",
       "    <tr>\n",
       "      <th>...</th>\n",
       "      <td>...</td>\n",
       "      <td>...</td>\n",
       "      <td>...</td>\n",
       "      <td>...</td>\n",
       "      <td>...</td>\n",
       "      <td>...</td>\n",
       "    </tr>\n",
       "    <tr>\n",
       "      <th>446</th>\n",
       "      <td>Stadtwerke München</td>\n",
       "      <td>2</td>\n",
       "      <td>None</td>\n",
       "      <td>None</td>\n",
       "      <td>6.897900e+09</td>\n",
       "      <td>POINT (11.57020 48.10193)</td>\n",
       "    </tr>\n",
       "    <tr>\n",
       "      <th>447</th>\n",
       "      <td>Stadtwerke München</td>\n",
       "      <td>2</td>\n",
       "      <td>None</td>\n",
       "      <td>None</td>\n",
       "      <td>6.902974e+09</td>\n",
       "      <td>POINT (11.59413 48.11640)</td>\n",
       "    </tr>\n",
       "    <tr>\n",
       "      <th>448</th>\n",
       "      <td>Stadtwerke München</td>\n",
       "      <td>2</td>\n",
       "      <td>None</td>\n",
       "      <td>None</td>\n",
       "      <td>6.902974e+09</td>\n",
       "      <td>POINT (11.59414 48.11649)</td>\n",
       "    </tr>\n",
       "    <tr>\n",
       "      <th>449</th>\n",
       "      <td>Stadtwerke München</td>\n",
       "      <td>2</td>\n",
       "      <td>None</td>\n",
       "      <td>None</td>\n",
       "      <td>6.943224e+09</td>\n",
       "      <td>POINT (11.57482 48.11833)</td>\n",
       "    </tr>\n",
       "    <tr>\n",
       "      <th>450</th>\n",
       "      <td>Stadtwerke München</td>\n",
       "      <td>2</td>\n",
       "      <td>None</td>\n",
       "      <td>None</td>\n",
       "      <td>6.943224e+09</td>\n",
       "      <td>POINT (11.57479 48.11835)</td>\n",
       "    </tr>\n",
       "  </tbody>\n",
       "</table>\n",
       "<p>451 rows × 6 columns</p>\n",
       "</div>"
      ],
      "text/plain": [
       "               operator capacity amperage voltage            id  \\\n",
       "0         Stadt München     None     None    None  4.013012e+08   \n",
       "1                  None     None       32     400  1.271358e+09   \n",
       "2                  E.On     None     None    None  1.330522e+09   \n",
       "3    Stadtwerke München        2     None    None  1.475946e+09   \n",
       "4                  None     None     None    None  1.895124e+09   \n",
       "..                  ...      ...      ...     ...           ...   \n",
       "446  Stadtwerke München        2     None    None  6.897900e+09   \n",
       "447  Stadtwerke München        2     None    None  6.902974e+09   \n",
       "448  Stadtwerke München        2     None    None  6.902974e+09   \n",
       "449  Stadtwerke München        2     None    None  6.943224e+09   \n",
       "450  Stadtwerke München        2     None    None  6.943224e+09   \n",
       "\n",
       "                      geometry  \n",
       "0    POINT (11.57398 48.15893)  \n",
       "1    POINT (11.68969 48.13300)  \n",
       "2    POINT (11.54603 48.13266)  \n",
       "3    POINT (11.53757 48.15324)  \n",
       "4    POINT (11.52806 48.13335)  \n",
       "..                         ...  \n",
       "446  POINT (11.57020 48.10193)  \n",
       "447  POINT (11.59413 48.11640)  \n",
       "448  POINT (11.59414 48.11649)  \n",
       "449  POINT (11.57482 48.11833)  \n",
       "450  POINT (11.57479 48.11835)  \n",
       "\n",
       "[451 rows x 6 columns]"
      ]
     },
     "execution_count": 140,
     "metadata": {},
     "output_type": "execute_result"
    }
   ],
   "source": [
    "munich_cs"
   ]
  },
  {
   "cell_type": "markdown",
   "metadata": {},
   "source": [
    "**Checkpoint:**\n",
    "\n",
    "At this point you should have the two dataframes for munich_districts (containing all 108 Bezirksteile) and the CS data (containing ~400-500 charging stations)."
   ]
  },
  {
   "cell_type": "markdown",
   "metadata": {},
   "source": [
    "## 3 Generating Charging Station Statistics"
   ]
  },
  {
   "cell_type": "markdown",
   "metadata": {},
   "source": [
    "When working with unfamiliar data you should first take a look at some \"high level\" figures, before digging in too deep. This first step is called \"explorative data analysis\": You manually examine some properties and try to get a feel for the included information and data quality of the data set. Aggregating functions (sum, average, min, max, unique values, percentages of specific features) are quite helpful in order to paint this big picture.\n",
    "\n",
    "After having seen, what information you may use in the dataset, you think about relevant questions, you would like to answer. As mentioned in the Introduction, in this exercise we would like to analyze the following aspects of the charging infrastructure in Munich:\n",
    "\n",
    "    1. Number of CS per district (per \"Bezirksteil\")\n",
    "    2. Density of CS: Number of CS per squarekm (for each district)\n",
    "    3. Number of CS per operator\n"
   ]
  },
  {
   "cell_type": "markdown",
   "metadata": {},
   "source": [
    "### 3.1 Explorative Data Analysis and Pre-Processing"
   ]
  },
  {
   "cell_type": "markdown",
   "metadata": {},
   "source": [
    "How many CS do we have in our dataframe munich_cs? Save the number in the variable n_cs and print the value!"
   ]
  },
  {
   "cell_type": "code",
   "execution_count": 96,
   "metadata": {},
   "outputs": [
    {
     "name": "stdout",
     "output_type": "stream",
     "text": [
      "451\n"
     ]
    }
   ],
   "source": [
    "# Count the number of charging stations in \"munich_cs\" and store the result in variable \"n_cs\":\n",
    "n_cs = len(munich_cs)\n",
    "\n",
    "\n",
    "print(n_cs)"
   ]
  },
  {
   "cell_type": "markdown",
   "metadata": {},
   "source": [
    "**Voltages and Amperages:**\n",
    "* What are the unique voltage values in the data set? Save the list in the variable unique_voltage_values and print the values.\n",
    "* What are the unique amperages values in the data set? Save the list in the variable unique_amperage_values and print the values."
   ]
  },
  {
   "cell_type": "code",
   "execution_count": 97,
   "metadata": {},
   "outputs": [
    {
     "name": "stdout",
     "output_type": "stream",
     "text": [
      "               operator capacity amperage voltage            id  \\\n",
      "0         Stadt München     None     None    None  4.013012e+08   \n",
      "1                  None     None       32     400  1.271358e+09   \n",
      "2                  E.On     None     None    None  1.330522e+09   \n",
      "3    Stadtwerke München        2     None    None  1.475946e+09   \n",
      "4                  None     None     None    None  1.895124e+09   \n",
      "..                  ...      ...      ...     ...           ...   \n",
      "446  Stadtwerke München        2     None    None  6.897900e+09   \n",
      "447  Stadtwerke München        2     None    None  6.902974e+09   \n",
      "448  Stadtwerke München        2     None    None  6.902974e+09   \n",
      "449  Stadtwerke München        2     None    None  6.943224e+09   \n",
      "450  Stadtwerke München        2     None    None  6.943224e+09   \n",
      "\n",
      "                      geometry  \n",
      "0    POINT (11.57398 48.15893)  \n",
      "1    POINT (11.68969 48.13300)  \n",
      "2    POINT (11.54603 48.13266)  \n",
      "3    POINT (11.53757 48.15324)  \n",
      "4    POINT (11.52806 48.13335)  \n",
      "..                         ...  \n",
      "446  POINT (11.57020 48.10193)  \n",
      "447  POINT (11.59413 48.11640)  \n",
      "448  POINT (11.59414 48.11649)  \n",
      "449  POINT (11.57482 48.11833)  \n",
      "450  POINT (11.57479 48.11835)  \n",
      "\n",
      "[451 rows x 6 columns]\n"
     ]
    }
   ],
   "source": [
    "print(munich_cs)"
   ]
  },
  {
   "cell_type": "code",
   "execution_count": 111,
   "metadata": {},
   "outputs": [
    {
     "name": "stdout",
     "output_type": "stream",
     "text": [
      "[None '400' '230;400' '230']\n",
      "[None '32' '16' '125' '6' '300' '143']\n"
     ]
    }
   ],
   "source": [
    "# Save the unique voltages and amperages in the following two variables:\n",
    "unique_voltage_values = munich_cs['voltage'].unique()\n",
    "unique_amperage_values = munich_cs['amperage'].unique()\n",
    "\n",
    "\n",
    "print(unique_voltage_values)\n",
    "print(unique_amperage_values)"
   ]
  },
  {
   "cell_type": "markdown",
   "metadata": {},
   "source": [
    "**Data quality:**\n",
    "* How many fields of voltage, amperage, operator and outlets are empty (na)?\\\n",
    "    Save the number of each field in a variable called n_voltage_na, n_amperage_na, n_operator_na and n_outlets_na!\n",
    "* Print the percentage of na-values for each field.\n",
    "\n",
    "Which properties hava a big share of na-values? Which properties promise more significant results for the analysis?"
   ]
  },
  {
   "cell_type": "code",
   "execution_count": 135,
   "metadata": {},
   "outputs": [
    {
     "name": "stdout",
     "output_type": "stream",
     "text": [
      "389\n"
     ]
    }
   ],
   "source": [
    "test = munich_cs['voltage'].isna().sum()\n",
    "print(test)"
   ]
  },
  {
   "cell_type": "code",
   "execution_count": 141,
   "metadata": {},
   "outputs": [
    {
     "name": "stdout",
     "output_type": "stream",
     "text": [
      "0.8625277161862528\n",
      "0.8536585365853658\n",
      "0.04656319290465632\n",
      "0.10643015521064302\n"
     ]
    }
   ],
   "source": [
    "# Count the amount of empty fiels for voltage, amperage, operator and outlets in the following four variables:\n",
    "n_voltage_na = munich_cs['voltage'].isna().sum()\n",
    "n_amperage_na = munich_cs['amperage'].isna().sum()\n",
    "n_operator_na = munich_cs['operator'].isna().sum()\n",
    "n_outlets_na = munich_cs['capacity'].isna().sum()\n",
    "\n",
    "\n",
    "# Now, let's print the share of na-values for each attribute in relation to the total of charging stations:\n",
    "print(n_voltage_na/n_cs)\n",
    "print(n_amperage_na/n_cs)\n",
    "print(n_operator_na/n_cs)\n",
    "print(n_outlets_na/n_cs)"
   ]
  },
  {
   "cell_type": "markdown",
   "metadata": {},
   "source": [
    "Since voltages and amperages are only present in some of the rows, analysis would only consider few data and lead to incorrect conclusions. Fortunately, two of the four properties are better than the others and therefore, we now take a look at operators and the number of outlets per CS.\n",
    "\n",
    "First, print all different values for operators and outlets and the count for each value.\n",
    "\n",
    "* What are the \"big players\" for CS in Munich?\n",
    "* What is the usual number of outlets per CS?"
   ]
  },
  {
   "cell_type": "code",
   "execution_count": 160,
   "metadata": {},
   "outputs": [
    {
     "name": "stdout",
     "output_type": "stream",
     "text": [
      "operator\n",
      "Stadtwerke München             345\n",
      "SWM                             26\n",
      "Bauhaus                          5\n",
      "Stadtwerke München GmbH          5\n",
      "BMW                              4\n",
      "SIEMENS AG                       3\n",
      "Bayernwerk                       3\n",
      "Sparda Bank                      3\n",
      "Sony Music                       3\n",
      "SWM Stadtwerke München           3\n",
      "BMWi/ChargeNow                   2\n",
      "ALDI Einkauf GmbH & Co. oHG      2\n",
      "Statdwerke München               2\n",
      "E-On                             1\n",
      "Aldi Süd                         1\n",
      "Aldi (Süd)                       1\n",
      "ARRI AG                          1\n",
      "ALDI Süd                         1\n",
      "Bw Fuhrpark GmbH                 1\n",
      "ChargeNow                        1\n",
      "Deutsche Telekom                 1\n",
      "Deutsches Museum                 1\n",
      "allegro                          1\n",
      "E.On                             1\n",
      "EON                              1\n",
      "Elements                         1\n",
      "LIDL                             1\n",
      "VW                               1\n",
      "Mc Donalds                       1\n",
      "Nissan                           1\n",
      "P+R Park & Ride GmbH             1\n",
      "PASING ARCADEN                   1\n",
      "Rewe                             1\n",
      "SWM Stadtwerke München GmbH      1\n",
      "Stadt München                    1\n",
      "Sunyard                          1\n",
      "Landratsamt München              1\n",
      "Name: operator, dtype: int64\n",
      "capacity\n",
      "2    366\n",
      "4     17\n",
      "1     10\n",
      "3      7\n",
      "6      3\n",
      "Name: capacity, dtype: int64\n"
     ]
    }
   ],
   "source": [
    "# Print the number of charging stations for each operator:\n",
    "print(munich_cs.groupby('operator')['operator'].count().sort_values(ascending=False))\n",
    "\n",
    "# Print the number of charging stations, that provide the same number of outlets:\n",
    "print(munich_cs.groupby('capacity')['capacity'].count().sort_values(ascending=False))"
   ]
  },
  {
   "cell_type": "markdown",
   "metadata": {},
   "source": [
    "### 3.2 Generating Statistics"
   ]
  },
  {
   "cell_type": "markdown",
   "metadata": {},
   "source": [
    "In this subsection we will answer the above-mentioned questions regarding CS in Munich."
   ]
  },
  {
   "cell_type": "markdown",
   "metadata": {},
   "source": [
    "#### 3.2.1 Charging Stations per District"
   ]
  },
  {
   "cell_type": "markdown",
   "metadata": {},
   "source": [
    "##### 3.2.1.1 Number of CS per district\n",
    "\n",
    "Let's start with the number of CS per district (per \"Bezirksteil\"): Count for each munich_district, how many CS are located in this district and save this number as a new column named \"n_cs\" in the dataframe munich_district.\n",
    "\n",
    "**Hint:**\\\n",
    "You may iterate over all elements of munich_district with a loop. But there is a much more elegant way of calculating this number in just one line: Use a lambda function in order to achieve the result."
   ]
  },
  {
   "cell_type": "code",
   "execution_count": 12,
   "metadata": {},
   "outputs": [],
   "source": [
    "# Count the number of CS per district and store the result in a new column in \"munich_districts\", which is named \"n_cs\":\n",
    "# munich_districts[\"n_cs\"] = ...\n"
   ]
  },
  {
   "cell_type": "markdown",
   "metadata": {},
   "source": [
    "##### 3.2.1.2 Density of CS: Number of CS per squarekm\n",
    "\n",
    "Since we know, that districts can be quite different (different areas, different population figures, and so on), the pure number of CS is not very informative. That's why, we introduce the area of a district as a reference quantity in order to calculate the number of CS per squarekm for each district. Therefore, we first need to calculate the area of all districts.\n",
    "\n",
    "**Hints:**\n",
    "* To calculate the area of a geometry use a shapely function!\n",
    "* As you may remember from the shapely basics notebook, shapely is unaware of measurement units. That's why, shapely can only use the axes of the coordinate systems you are using for a geometry. As long as you use metric coordinates in an euclidean plane (e.g. a square with (0,0),(1,0),(1,1),(0,1)), shapely is able to calculate the area of polygons. Since latitude and longitude from WGS84 (GPS coordinates) are neither metric (degrees, minutes, seconds) nor euclidean (spherical coordinates), we first have to transform our districts into a metric coordinate system. For Munich, we use Gauss-Krüger Zone 4 (EPSG:31468), which references points as x- and y-coordinates in **meters**.\\\n",
    "    Interested readers may refer to:\n",
    "  * [https://wiki.tum.de/display/smartemobilitaet/GIS%3A+Kartografie+und+Projektionen]\n",
    "  * [https://wiki.tum.de/display/smartemobilitaet/Coordinate+Systems%2C+Projections%2C+Grids+and+Visualization+in+Python%3A+Practical+Guide]\n",
    "\n",
    "In order to calculate the areas of each district you have to implement the following steps:\n",
    "\n",
    "    1. Transform the munich_districts into the metric system Gauss Krüger Zone 4.\n",
    "    2. Calculate the area of each district in squarekm and save the result into a new column named \"area_sqkm\".\n",
    "    3. Transform the munich_districts back to WGS84."
   ]
  },
  {
   "cell_type": "code",
   "execution_count": 13,
   "metadata": {},
   "outputs": [],
   "source": [
    "# TRANSFORMATION SETTINGS\n",
    "WGS84_EPSG = {'init': 'epsg:4326'}\n",
    "METRIC_EPSG = {'init': 'epsg:31468'} # Gauss-Kruger Zone 4\n",
    "\n",
    "munich_districts = munich_districts.to_crs(METRIC_EPSG)\n",
    "munich_districts[\"area_sqkm\"] = munich_districts.area/1000000\n",
    "munich_districts = munich_districts.to_crs(WGS84_EPSG)"
   ]
  },
  {
   "cell_type": "markdown",
   "metadata": {},
   "source": [
    "Now calculate the number of CS per squarekm for each district and save the result in a new column named \"n_cs_per_sqkm\"."
   ]
  },
  {
   "cell_type": "code",
   "execution_count": 14,
   "metadata": {},
   "outputs": [],
   "source": [
    "munich_districts[\"n_cs_per_sqkm\"] = munich_districts.n_cs/munich_districts.area_sqkm"
   ]
  },
  {
   "cell_type": "markdown",
   "metadata": {},
   "source": [
    "##### 3.2.1.3 Visualization"
   ]
  },
  {
   "cell_type": "markdown",
   "metadata": {},
   "source": [
    "Subsequently, we visualize the calculated results of the CS density per district in a map:"
   ]
  },
  {
   "cell_type": "code",
   "execution_count": 15,
   "metadata": {},
   "outputs": [
    {
     "data": {
      "text/plain": [
       "<matplotlib.axes._subplots.AxesSubplot at 0x15c59bd0>"
      ]
     },
     "execution_count": 15,
     "metadata": {},
     "output_type": "execute_result"
    },
    {
     "data": {
      "image/png": "[encoded data removed]",
      "text/plain": [
       "<Figure size 1080x1080 with 1 Axes>"
      ]
     },
     "metadata": {
      "needs_background": "light"
     },
     "output_type": "display_data"
    }
   ],
   "source": [
    "# How can we set the opacity ?\n",
    "fig, ax = plt.subplots()\n",
    "fig.set_size_inches(15,15)\n",
    "munich_districts.plot(ax = ax, column=\"n_cs_per_sqkm\")"
   ]
  },
  {
   "cell_type": "markdown",
   "metadata": {},
   "source": [
    "#### 3.2.2 Charging Station Operators"
   ]
  },
  {
   "cell_type": "markdown",
   "metadata": {},
   "source": [
    "During the explorative data analysis you printed all operators and the number of CS operated by that company. As you may have noticed, there were different names for the same operator (e.g. \"Stadtwerke München\", \"SWM\", \"Stadtwerke München GmbH\", etc.). In order to get clean results from your analysis, you have to merge the different operator names.\n",
    "\n",
    "Generate a unique list of operators and store it into the variable \"unique_operators\"!\\\n",
    "Also save the number of unique operators in the variable \"N_unique_operators_raw\"!"
   ]
  },
  {
   "cell_type": "code",
   "execution_count": 16,
   "metadata": {},
   "outputs": [],
   "source": [
    "# Generate a unique list of operators and store it in the variable \"unique_operators\":\n",
    "# unique_operators = ...\n",
    "\n",
    "\n",
    "# Save the number of unique operators in the variable \"N_unique_operators_raw\":\n",
    "# N_unique_operators_raw = ...\n"
   ]
  },
  {
   "cell_type": "markdown",
   "metadata": {},
   "source": [
    "Now, define a mapping dictionary of operator names, in which you assign operators from the dataframe to unique company names."
   ]
  },
  {
   "cell_type": "code",
   "execution_count": 17,
   "metadata": {},
   "outputs": [],
   "source": [
    "# Define operator mapping\n",
    "operator_map = {\n",
    "    'Stadt München' : 'Stadt München',\n",
    "    'Sixt' : 'Sixt',\n",
    "    None : 'Unknown',\n",
    "    'E.On' : 'E.ON',\n",
    "    'EON' : 'E.ON',\n",
    "    'E-On' : 'E.ON',\n",
    "    'Stadtwerke München' : 'SWM',\n",
    "    'SWM' : 'SWM',\n",
    "    'SWM Stadtwerke München' : 'SWM',\n",
    "    'Stadtwerke München GmbH' : 'SWM',\n",
    "    'SWM Stadtwerke München GmbH' : 'SWM',\n",
    "    'Statdwerke München' : 'SWM',\n",
    "    'BMWi/ChargeNow' : 'ChargeNow',\n",
    "    'ChargeNow' : 'ChargeNow',\n",
    "    'BMW' : 'ChargeNow',\n",
    "    'Landratsamt München' : 'Landratsamt München',\n",
    "    'Elements' : 'Elements',\n",
    "    'PASING ARCADEN' : 'PASING ARCADEN',\n",
    "    'SIEMENS AG' : 'SIEMENS AG',\n",
    "    'ALDI Süd' : 'ALDI Süd',\n",
    "    'Aldi (Süd)' : 'ALDI Süd',\n",
    "    'ALDI Einkauf GmbH & Co. oHG' : 'ALDI Süd',\n",
    "    'Aldi Süd' : 'ALDI Süd',\n",
    "    'Rewe' : 'Rewe',\n",
    "    'Sony Music' : 'Sony Music',\n",
    "    'Sunyard' : 'Sunyard',\n",
    "    'Deutsches Museum' : 'Deutsches Museum',\n",
    "    'Sparda Bank' : 'Sparda Bank',\n",
    "    'Nissan' : 'Nissan',\n",
    "    'Bw Fuhrpark GmbH' : 'Bw Fuhrpark GmbH',\n",
    "    'Bauhaus' : 'Bauhaus',\n",
    "    'VW' : 'VW',\n",
    "    'P+R Park & Ride GmbH' : 'P+R Park & Ride GmbH',\n",
    "    'Deutsche Telekom' : 'Deutsche Telekom',\n",
    "    'LIDL' : 'LIDL',\n",
    "    'ARRI AG' : 'ARRI AG',\n",
    "    'Bayernwerk' : 'Bayernwerk',\n",
    "    'allegro' : 'allegro',\n",
    "    'Mc Donalds' : 'Mc Donalds'\n",
    "}"
   ]
  },
  {
   "cell_type": "markdown",
   "metadata": {},
   "source": [
    "As a last step, use a lambda function to apply the mapping you defined above and save the new number of unique operators in a variable called \"N_unique_operators\"!"
   ]
  },
  {
   "cell_type": "code",
   "execution_count": 18,
   "metadata": {},
   "outputs": [],
   "source": [
    "# Apply a lambda function in order to perform the mapping and overwrite the \"operator\"-column in \"munich_cs\":\n",
    "# munich_cs.operator = ...\n",
    "\n",
    "\n",
    "# Save the number of unique operators after mapping in the variable \"N_unique_operators\":\n",
    "# N_unique_operators = ...\n"
   ]
  },
  {
   "cell_type": "markdown",
   "metadata": {},
   "source": [
    "## 4 Results"
   ]
  },
  {
   "cell_type": "markdown",
   "metadata": {},
   "source": [
    "In this section, we print and plot the results of your calculations:\n",
    "\n",
    "* Number of CS in Munich\n",
    "* Number of unique operators before mapping\n",
    "* Number of unique operators after mapping\n",
    "* List of unique operators after mapping\n",
    "* Plot number of charging stations per operator in a histogram"
   ]
  },
  {
   "cell_type": "code",
   "execution_count": 19,
   "metadata": {},
   "outputs": [
    {
     "name": "stdout",
     "output_type": "stream",
     "text": [
      "+++ CHARGING STATION STATISTICS +++\n",
      "\n",
      "\n",
      "Number of CS in Munich: 451\n",
      "\n",
      "Number of unique operators before mapping: 38\n",
      "\n",
      "Number of unique operators after mapping: 26\n",
      "\n",
      "Unique operators after mapping: ['Stadt München' 'Unknown' 'E.ON' 'SWM' 'ChargeNow' 'Landratsamt München'\n",
      " 'Elements' 'PASING ARCADEN' 'SIEMENS AG' 'ALDI Süd' 'Rewe' 'Sony Music'\n",
      " 'Sunyard' 'Deutsches Museum' 'Sparda Bank' 'Nissan' 'Bw Fuhrpark GmbH'\n",
      " 'Bauhaus' 'VW' 'P+R Park & Ride GmbH' 'Deutsche Telekom' 'LIDL' 'ARRI AG'\n",
      " 'Bayernwerk' 'allegro' 'Mc Donalds']\n",
      "\n"
     ]
    },
    {
     "ename": "KeyboardInterrupt",
     "evalue": "",
     "output_type": "error",
     "traceback": [
      "\u001b[1;31m---------------------------------------------------------------------------\u001b[0m",
      "\u001b[1;31mKeyboardInterrupt\u001b[0m                         Traceback (most recent call last)",
      "\u001b[1;32m<ipython-input-19-12109d246f56>\u001b[0m in \u001b[0;36m<module>\u001b[1;34m\u001b[0m\n\u001b[0;32m     24\u001b[0m \u001b[1;33m\u001b[0m\u001b[0m\n\u001b[0;32m     25\u001b[0m \u001b[1;31m# Show results on a map\u001b[0m\u001b[1;33m\u001b[0m\u001b[1;33m\u001b[0m\u001b[0m\n\u001b[1;32m---> 26\u001b[1;33m \u001b[0mmplleaflet\u001b[0m\u001b[1;33m.\u001b[0m\u001b[0mshow\u001b[0m\u001b[1;33m(\u001b[0m\u001b[0mfig\u001b[0m\u001b[1;33m=\u001b[0m\u001b[0max\u001b[0m\u001b[1;33m.\u001b[0m\u001b[0mfigure\u001b[0m\u001b[1;33m,\u001b[0m \u001b[0mcrs\u001b[0m\u001b[1;33m=\u001b[0m\u001b[0mmunich_cs\u001b[0m\u001b[1;33m.\u001b[0m\u001b[0mcrs\u001b[0m\u001b[1;33m,\u001b[0m \u001b[0mtiles\u001b[0m\u001b[1;33m=\u001b[0m\u001b[1;34m'cartodb_positron'\u001b[0m\u001b[1;33m,\u001b[0m \u001b[0mpath\u001b[0m\u001b[1;33m=\u001b[0m\u001b[0mOUT_DIR\u001b[0m\u001b[1;33m+\u001b[0m\u001b[1;34m\"//\"\u001b[0m\u001b[1;33m+\u001b[0m\u001b[0mMAP_OUT_FILENAME\u001b[0m\u001b[1;33m)\u001b[0m\u001b[1;33m\u001b[0m\u001b[0m\n\u001b[0m\u001b[0;32m     27\u001b[0m \u001b[1;33m\u001b[0m\u001b[0m\n\u001b[0;32m     28\u001b[0m \u001b[1;31m# Open second figure for operator histogram\u001b[0m\u001b[1;33m\u001b[0m\u001b[1;33m\u001b[0m\u001b[0m\n",
      "\u001b[1;32mc:\\program files (x86)\\python36-32\\lib\\site-packages\\mplleaflet\\_display.py\u001b[0m in \u001b[0;36mshow\u001b[1;34m(fig, path, **kwargs)\u001b[0m\n\u001b[0;32m    178\u001b[0m     \u001b[0mfullpath\u001b[0m \u001b[1;33m=\u001b[0m \u001b[0mos\u001b[0m\u001b[1;33m.\u001b[0m\u001b[0mpath\u001b[0m\u001b[1;33m.\u001b[0m\u001b[0mabspath\u001b[0m\u001b[1;33m(\u001b[0m\u001b[0mpath\u001b[0m\u001b[1;33m)\u001b[0m\u001b[1;33m\u001b[0m\u001b[0m\n\u001b[0;32m    179\u001b[0m     \u001b[1;32mwith\u001b[0m \u001b[0mopen\u001b[0m\u001b[1;33m(\u001b[0m\u001b[0mfullpath\u001b[0m\u001b[1;33m,\u001b[0m \u001b[1;34m'w'\u001b[0m\u001b[1;33m)\u001b[0m \u001b[1;32mas\u001b[0m \u001b[0mf\u001b[0m\u001b[1;33m:\u001b[0m\u001b[1;33m\u001b[0m\u001b[0m\n\u001b[1;32m--> 180\u001b[1;33m         \u001b[0msave_html\u001b[0m\u001b[1;33m(\u001b[0m\u001b[0mfig\u001b[0m\u001b[1;33m,\u001b[0m \u001b[0mfileobj\u001b[0m\u001b[1;33m=\u001b[0m\u001b[0mf\u001b[0m\u001b[1;33m,\u001b[0m \u001b[1;33m**\u001b[0m\u001b[0mkwargs\u001b[0m\u001b[1;33m)\u001b[0m\u001b[1;33m\u001b[0m\u001b[0m\n\u001b[0m\u001b[0;32m    181\u001b[0m     \u001b[0mwebbrowser\u001b[0m\u001b[1;33m.\u001b[0m\u001b[0mopen\u001b[0m\u001b[1;33m(\u001b[0m\u001b[1;34m'file://'\u001b[0m \u001b[1;33m+\u001b[0m \u001b[0mfullpath\u001b[0m\u001b[1;33m)\u001b[0m\u001b[1;33m\u001b[0m\u001b[0m\n",
      "\u001b[1;32mc:\\program files (x86)\\python36-32\\lib\\site-packages\\mplleaflet\\_display.py\u001b[0m in \u001b[0;36msave_html\u001b[1;34m(fig, fileobj, **kwargs)\u001b[0m\n\u001b[0;32m    129\u001b[0m     \u001b[1;32mif\u001b[0m \u001b[1;32mnot\u001b[0m \u001b[0mhasattr\u001b[0m\u001b[1;33m(\u001b[0m\u001b[0mfileobj\u001b[0m\u001b[1;33m,\u001b[0m \u001b[1;34m'write'\u001b[0m\u001b[1;33m)\u001b[0m\u001b[1;33m:\u001b[0m\u001b[1;33m\u001b[0m\u001b[0m\n\u001b[0;32m    130\u001b[0m         \u001b[1;32mraise\u001b[0m \u001b[0mValueError\u001b[0m\u001b[1;33m(\u001b[0m\u001b[1;34m\"fileobj should be a filename or a writable file\"\u001b[0m\u001b[1;33m)\u001b[0m\u001b[1;33m\u001b[0m\u001b[0m\n\u001b[1;32m--> 131\u001b[1;33m     \u001b[0mhtml\u001b[0m \u001b[1;33m=\u001b[0m \u001b[0mfig_to_html\u001b[0m\u001b[1;33m(\u001b[0m\u001b[0mfig\u001b[0m\u001b[1;33m,\u001b[0m \u001b[1;33m**\u001b[0m\u001b[0mkwargs\u001b[0m\u001b[1;33m)\u001b[0m\u001b[1;33m\u001b[0m\u001b[0m\n\u001b[0m\u001b[0;32m    132\u001b[0m     \u001b[0mfileobj\u001b[0m\u001b[1;33m.\u001b[0m\u001b[0mwrite\u001b[0m\u001b[1;33m(\u001b[0m\u001b[0mhtml\u001b[0m\u001b[1;33m)\u001b[0m\u001b[1;33m\u001b[0m\u001b[0m\n\u001b[0;32m    133\u001b[0m     \u001b[0mfileobj\u001b[0m\u001b[1;33m.\u001b[0m\u001b[0mclose\u001b[0m\u001b[1;33m(\u001b[0m\u001b[1;33m)\u001b[0m\u001b[1;33m\u001b[0m\u001b[0m\n",
      "\u001b[1;32mc:\\program files (x86)\\python36-32\\lib\\site-packages\\mplleaflet\\_display.py\u001b[0m in \u001b[0;36mfig_to_html\u001b[1;34m(fig, template, tiles, crs, epsg, embed_links)\u001b[0m\n\u001b[0;32m     82\u001b[0m     \u001b[0mrenderer\u001b[0m \u001b[1;33m=\u001b[0m \u001b[0mLeafletRenderer\u001b[0m\u001b[1;33m(\u001b[0m\u001b[0mcrs\u001b[0m\u001b[1;33m=\u001b[0m\u001b[0mcrs\u001b[0m\u001b[1;33m,\u001b[0m \u001b[0mepsg\u001b[0m\u001b[1;33m=\u001b[0m\u001b[0mepsg\u001b[0m\u001b[1;33m)\u001b[0m\u001b[1;33m\u001b[0m\u001b[0m\n\u001b[0;32m     83\u001b[0m     \u001b[0mexporter\u001b[0m \u001b[1;33m=\u001b[0m \u001b[0mExporter\u001b[0m\u001b[1;33m(\u001b[0m\u001b[0mrenderer\u001b[0m\u001b[1;33m)\u001b[0m\u001b[1;33m\u001b[0m\u001b[0m\n\u001b[1;32m---> 84\u001b[1;33m     \u001b[0mexporter\u001b[0m\u001b[1;33m.\u001b[0m\u001b[0mrun\u001b[0m\u001b[1;33m(\u001b[0m\u001b[0mfig\u001b[0m\u001b[1;33m)\u001b[0m\u001b[1;33m\u001b[0m\u001b[0m\n\u001b[0m\u001b[0;32m     85\u001b[0m \u001b[1;33m\u001b[0m\u001b[0m\n\u001b[0;32m     86\u001b[0m     \u001b[0mattribution\u001b[0m \u001b[1;33m=\u001b[0m \u001b[0m_attribution\u001b[0m \u001b[1;33m+\u001b[0m \u001b[1;34m' | '\u001b[0m \u001b[1;33m+\u001b[0m \u001b[0mtiles\u001b[0m\u001b[1;33m[\u001b[0m\u001b[1;36m1\u001b[0m\u001b[1;33m]\u001b[0m\u001b[1;33m\u001b[0m\u001b[0m\n",
      "\u001b[1;32mc:\\program files (x86)\\python36-32\\lib\\site-packages\\mplleaflet\\mplexporter\\exporter.py\u001b[0m in \u001b[0;36mrun\u001b[1;34m(self, fig)\u001b[0m\n\u001b[0;32m     49\u001b[0m             \u001b[1;32mimport\u001b[0m \u001b[0mmatplotlib\u001b[0m\u001b[1;33m.\u001b[0m\u001b[0mpyplot\u001b[0m \u001b[1;32mas\u001b[0m \u001b[0mplt\u001b[0m\u001b[1;33m\u001b[0m\u001b[0m\n\u001b[0;32m     50\u001b[0m             \u001b[0mplt\u001b[0m\u001b[1;33m.\u001b[0m\u001b[0mclose\u001b[0m\u001b[1;33m(\u001b[0m\u001b[0mfig\u001b[0m\u001b[1;33m)\u001b[0m\u001b[1;33m\u001b[0m\u001b[0m\n\u001b[1;32m---> 51\u001b[1;33m         \u001b[0mself\u001b[0m\u001b[1;33m.\u001b[0m\u001b[0mcrawl_fig\u001b[0m\u001b[1;33m(\u001b[0m\u001b[0mfig\u001b[0m\u001b[1;33m)\u001b[0m\u001b[1;33m\u001b[0m\u001b[0m\n\u001b[0m\u001b[0;32m     52\u001b[0m \u001b[1;33m\u001b[0m\u001b[0m\n\u001b[0;32m     53\u001b[0m     \u001b[1;33m@\u001b[0m\u001b[0mstaticmethod\u001b[0m\u001b[1;33m\u001b[0m\u001b[0m\n",
      "\u001b[1;32mc:\\program files (x86)\\python36-32\\lib\\site-packages\\mplleaflet\\mplexporter\\exporter.py\u001b[0m in \u001b[0;36mcrawl_fig\u001b[1;34m(self, fig)\u001b[0m\n\u001b[0;32m    116\u001b[0m                                        props=utils.get_figure_properties(fig)):\n\u001b[0;32m    117\u001b[0m             \u001b[1;32mfor\u001b[0m \u001b[0max\u001b[0m \u001b[1;32min\u001b[0m \u001b[0mfig\u001b[0m\u001b[1;33m.\u001b[0m\u001b[0maxes\u001b[0m\u001b[1;33m:\u001b[0m\u001b[1;33m\u001b[0m\u001b[0m\n\u001b[1;32m--> 118\u001b[1;33m                 \u001b[0mself\u001b[0m\u001b[1;33m.\u001b[0m\u001b[0mcrawl_ax\u001b[0m\u001b[1;33m(\u001b[0m\u001b[0max\u001b[0m\u001b[1;33m)\u001b[0m\u001b[1;33m\u001b[0m\u001b[0m\n\u001b[0m\u001b[0;32m    119\u001b[0m \u001b[1;33m\u001b[0m\u001b[0m\n\u001b[0;32m    120\u001b[0m     \u001b[1;32mdef\u001b[0m \u001b[0mcrawl_ax\u001b[0m\u001b[1;33m(\u001b[0m\u001b[0mself\u001b[0m\u001b[1;33m,\u001b[0m \u001b[0max\u001b[0m\u001b[1;33m)\u001b[0m\u001b[1;33m:\u001b[0m\u001b[1;33m\u001b[0m\u001b[0m\n",
      "\u001b[1;32mc:\\program files (x86)\\python36-32\\lib\\site-packages\\mplleaflet\\mplexporter\\exporter.py\u001b[0m in \u001b[0;36mcrawl_ax\u001b[1;34m(self, ax)\u001b[0m\n\u001b[0;32m    138\u001b[0m                 \u001b[0mself\u001b[0m\u001b[1;33m.\u001b[0m\u001b[0mdraw_patch\u001b[0m\u001b[1;33m(\u001b[0m\u001b[0max\u001b[0m\u001b[1;33m,\u001b[0m \u001b[0mpatch\u001b[0m\u001b[1;33m)\u001b[0m\u001b[1;33m\u001b[0m\u001b[0m\n\u001b[0;32m    139\u001b[0m             \u001b[1;32mfor\u001b[0m \u001b[0mcollection\u001b[0m \u001b[1;32min\u001b[0m \u001b[0max\u001b[0m\u001b[1;33m.\u001b[0m\u001b[0mcollections\u001b[0m\u001b[1;33m:\u001b[0m\u001b[1;33m\u001b[0m\u001b[0m\n\u001b[1;32m--> 140\u001b[1;33m                 \u001b[0mself\u001b[0m\u001b[1;33m.\u001b[0m\u001b[0mdraw_collection\u001b[0m\u001b[1;33m(\u001b[0m\u001b[0max\u001b[0m\u001b[1;33m,\u001b[0m \u001b[0mcollection\u001b[0m\u001b[1;33m)\u001b[0m\u001b[1;33m\u001b[0m\u001b[0m\n\u001b[0m\u001b[0;32m    141\u001b[0m             \u001b[1;32mfor\u001b[0m \u001b[0mimage\u001b[0m \u001b[1;32min\u001b[0m \u001b[0max\u001b[0m\u001b[1;33m.\u001b[0m\u001b[0mimages\u001b[0m\u001b[1;33m:\u001b[0m\u001b[1;33m\u001b[0m\u001b[0m\n\u001b[0;32m    142\u001b[0m                 \u001b[0mself\u001b[0m\u001b[1;33m.\u001b[0m\u001b[0mdraw_image\u001b[0m\u001b[1;33m(\u001b[0m\u001b[0max\u001b[0m\u001b[1;33m,\u001b[0m \u001b[0mimage\u001b[0m\u001b[1;33m)\u001b[0m\u001b[1;33m\u001b[0m\u001b[0m\n",
      "\u001b[1;32mc:\\program files (x86)\\python36-32\\lib\\site-packages\\mplleaflet\\mplexporter\\exporter.py\u001b[0m in \u001b[0;36mdraw_collection\u001b[1;34m(self, ax, collection, force_pathtrans, force_offsettrans)\u001b[0m\n\u001b[0;32m    270\u001b[0m                                            \u001b[0moffset_order\u001b[0m\u001b[1;33m=\u001b[0m\u001b[0moffset_order\u001b[0m\u001b[1;33m,\u001b[0m\u001b[1;33m\u001b[0m\u001b[0m\n\u001b[0;32m    271\u001b[0m                                            \u001b[0mstyles\u001b[0m\u001b[1;33m=\u001b[0m\u001b[0mstyles\u001b[0m\u001b[1;33m,\u001b[0m\u001b[1;33m\u001b[0m\u001b[0m\n\u001b[1;32m--> 272\u001b[1;33m                                            mplobj=collection)\n\u001b[0m\u001b[0;32m    273\u001b[0m \u001b[1;33m\u001b[0m\u001b[0m\n\u001b[0;32m    274\u001b[0m     \u001b[1;32mdef\u001b[0m \u001b[0mdraw_image\u001b[0m\u001b[1;33m(\u001b[0m\u001b[0mself\u001b[0m\u001b[1;33m,\u001b[0m \u001b[0max\u001b[0m\u001b[1;33m,\u001b[0m \u001b[0mimage\u001b[0m\u001b[1;33m)\u001b[0m\u001b[1;33m:\u001b[0m\u001b[1;33m\u001b[0m\u001b[0m\n",
      "\u001b[1;32mc:\\program files (x86)\\python36-32\\lib\\site-packages\\mplleaflet\\mplexporter\\renderers\\base.py\u001b[0m in \u001b[0;36mdraw_path_collection\u001b[1;34m(self, paths, path_coordinates, path_transforms, offsets, offset_coordinates, offset_order, styles, mplobj)\u001b[0m\n\u001b[0;32m    270\u001b[0m                            \u001b[0mpathcodes\u001b[0m\u001b[1;33m=\u001b[0m\u001b[0mpathcodes\u001b[0m\u001b[1;33m,\u001b[0m \u001b[0mstyle\u001b[0m\u001b[1;33m=\u001b[0m\u001b[0mstyle\u001b[0m\u001b[1;33m,\u001b[0m \u001b[0moffset\u001b[0m\u001b[1;33m=\u001b[0m\u001b[0moffset\u001b[0m\u001b[1;33m,\u001b[0m\u001b[1;33m\u001b[0m\u001b[0m\n\u001b[0;32m    271\u001b[0m                            \u001b[0moffset_coordinates\u001b[0m\u001b[1;33m=\u001b[0m\u001b[0moffset_coordinates\u001b[0m\u001b[1;33m,\u001b[0m\u001b[1;33m\u001b[0m\u001b[0m\n\u001b[1;32m--> 272\u001b[1;33m                            mplobj=mplobj)\n\u001b[0m\u001b[0;32m    273\u001b[0m \u001b[1;33m\u001b[0m\u001b[0m\n\u001b[0;32m    274\u001b[0m     \u001b[1;32mdef\u001b[0m \u001b[0mdraw_markers\u001b[0m\u001b[1;33m(\u001b[0m\u001b[0mself\u001b[0m\u001b[1;33m,\u001b[0m \u001b[0mdata\u001b[0m\u001b[1;33m,\u001b[0m \u001b[0mcoordinates\u001b[0m\u001b[1;33m,\u001b[0m \u001b[0mstyle\u001b[0m\u001b[1;33m,\u001b[0m \u001b[0mlabel\u001b[0m\u001b[1;33m,\u001b[0m \u001b[0mmplobj\u001b[0m\u001b[1;33m=\u001b[0m\u001b[1;32mNone\u001b[0m\u001b[1;33m)\u001b[0m\u001b[1;33m:\u001b[0m\u001b[1;33m\u001b[0m\u001b[0m\n",
      "\u001b[1;32mc:\\program files (x86)\\python36-32\\lib\\site-packages\\mplleaflet\\leaflet_renderer.py\u001b[0m in \u001b[0;36mdraw_path\u001b[1;34m(self, data, coordinates, pathcodes, style, offset, offset_coordinates, mplobj)\u001b[0m\n\u001b[0;32m    120\u001b[0m         \u001b[1;32melse\u001b[0m\u001b[1;33m:\u001b[0m\u001b[1;33m\u001b[0m\u001b[0m\n\u001b[0;32m    121\u001b[0m             \u001b[1;32mif\u001b[0m \u001b[0mself\u001b[0m\u001b[1;33m.\u001b[0m\u001b[0mtransformfunc\u001b[0m\u001b[1;33m:\u001b[0m\u001b[1;33m\u001b[0m\u001b[0m\n\u001b[1;32m--> 122\u001b[1;33m                 \u001b[0mdata\u001b[0m \u001b[1;33m=\u001b[0m \u001b[1;33m[\u001b[0m\u001b[0mself\u001b[0m\u001b[1;33m.\u001b[0m\u001b[0mtransformfunc\u001b[0m\u001b[1;33m(\u001b[0m\u001b[1;33m*\u001b[0m\u001b[0mc\u001b[0m\u001b[1;33m)\u001b[0m \u001b[1;32mfor\u001b[0m \u001b[0mc\u001b[0m \u001b[1;32min\u001b[0m \u001b[0mdata\u001b[0m\u001b[1;33m]\u001b[0m\u001b[1;33m\u001b[0m\u001b[0m\n\u001b[0m\u001b[0;32m    123\u001b[0m             \u001b[1;32melse\u001b[0m\u001b[1;33m:\u001b[0m\u001b[1;33m\u001b[0m\u001b[0m\n\u001b[0;32m    124\u001b[0m                 \u001b[0mdata\u001b[0m \u001b[1;33m=\u001b[0m \u001b[1;33m[\u001b[0m\u001b[0mc\u001b[0m\u001b[1;33m.\u001b[0m\u001b[0mtolist\u001b[0m\u001b[1;33m(\u001b[0m\u001b[1;33m)\u001b[0m \u001b[1;32mfor\u001b[0m \u001b[0mc\u001b[0m \u001b[1;32min\u001b[0m \u001b[0mdata\u001b[0m\u001b[1;33m]\u001b[0m\u001b[1;33m\u001b[0m\u001b[0m\n",
      "\u001b[1;32mc:\\program files (x86)\\python36-32\\lib\\site-packages\\mplleaflet\\leaflet_renderer.py\u001b[0m in \u001b[0;36m<listcomp>\u001b[1;34m(.0)\u001b[0m\n\u001b[0;32m    120\u001b[0m         \u001b[1;32melse\u001b[0m\u001b[1;33m:\u001b[0m\u001b[1;33m\u001b[0m\u001b[0m\n\u001b[0;32m    121\u001b[0m             \u001b[1;32mif\u001b[0m \u001b[0mself\u001b[0m\u001b[1;33m.\u001b[0m\u001b[0mtransformfunc\u001b[0m\u001b[1;33m:\u001b[0m\u001b[1;33m\u001b[0m\u001b[0m\n\u001b[1;32m--> 122\u001b[1;33m                 \u001b[0mdata\u001b[0m \u001b[1;33m=\u001b[0m \u001b[1;33m[\u001b[0m\u001b[0mself\u001b[0m\u001b[1;33m.\u001b[0m\u001b[0mtransformfunc\u001b[0m\u001b[1;33m(\u001b[0m\u001b[1;33m*\u001b[0m\u001b[0mc\u001b[0m\u001b[1;33m)\u001b[0m \u001b[1;32mfor\u001b[0m \u001b[0mc\u001b[0m \u001b[1;32min\u001b[0m \u001b[0mdata\u001b[0m\u001b[1;33m]\u001b[0m\u001b[1;33m\u001b[0m\u001b[0m\n\u001b[0m\u001b[0;32m    123\u001b[0m             \u001b[1;32melse\u001b[0m\u001b[1;33m:\u001b[0m\u001b[1;33m\u001b[0m\u001b[0m\n\u001b[0;32m    124\u001b[0m                 \u001b[0mdata\u001b[0m \u001b[1;33m=\u001b[0m \u001b[1;33m[\u001b[0m\u001b[0mc\u001b[0m\u001b[1;33m.\u001b[0m\u001b[0mtolist\u001b[0m\u001b[1;33m(\u001b[0m\u001b[1;33m)\u001b[0m \u001b[1;32mfor\u001b[0m \u001b[0mc\u001b[0m \u001b[1;32min\u001b[0m \u001b[0mdata\u001b[0m\u001b[1;33m]\u001b[0m\u001b[1;33m\u001b[0m\u001b[0m\n",
      "\u001b[1;32mc:\\program files (x86)\\python36-32\\lib\\site-packages\\pyproj\\transformer.py\u001b[0m in \u001b[0;36mtransform\u001b[1;34m(p1, p2, x, y, z, tt, radians, errcheck, skip_equivalent, always_xy)\u001b[0m\n\u001b[0;32m    736\u001b[0m     \"\"\"\n\u001b[0;32m    737\u001b[0m     return Transformer.from_proj(\n\u001b[1;32m--> 738\u001b[1;33m         \u001b[0mp1\u001b[0m\u001b[1;33m,\u001b[0m \u001b[0mp2\u001b[0m\u001b[1;33m,\u001b[0m \u001b[0mskip_equivalent\u001b[0m\u001b[1;33m=\u001b[0m\u001b[0mskip_equivalent\u001b[0m\u001b[1;33m,\u001b[0m \u001b[0malways_xy\u001b[0m\u001b[1;33m=\u001b[0m\u001b[0malways_xy\u001b[0m\u001b[1;33m\u001b[0m\u001b[0m\n\u001b[0m\u001b[0;32m    739\u001b[0m     ).transform(xx=x, yy=y, zz=z, tt=tt, radians=radians, errcheck=errcheck)\n\u001b[0;32m    740\u001b[0m \u001b[1;33m\u001b[0m\u001b[0m\n",
      "\u001b[1;32mc:\\program files (x86)\\python36-32\\lib\\site-packages\\pyproj\\transformer.py\u001b[0m in \u001b[0;36mfrom_proj\u001b[1;34m(proj_from, proj_to, skip_equivalent, always_xy, area_of_interest)\u001b[0m\n\u001b[0;32m    260\u001b[0m             \u001b[0mskip_equivalent\u001b[0m\u001b[1;33m=\u001b[0m\u001b[0mskip_equivalent\u001b[0m\u001b[1;33m,\u001b[0m\u001b[1;33m\u001b[0m\u001b[0m\n\u001b[0;32m    261\u001b[0m             \u001b[0malways_xy\u001b[0m\u001b[1;33m=\u001b[0m\u001b[0malways_xy\u001b[0m\u001b[1;33m,\u001b[0m\u001b[1;33m\u001b[0m\u001b[0m\n\u001b[1;32m--> 262\u001b[1;33m             \u001b[0marea_of_interest\u001b[0m\u001b[1;33m=\u001b[0m\u001b[0marea_of_interest\u001b[0m\u001b[1;33m,\u001b[0m\u001b[1;33m\u001b[0m\u001b[0m\n\u001b[0m\u001b[0;32m    263\u001b[0m         )\n\u001b[0;32m    264\u001b[0m \u001b[1;33m\u001b[0m\u001b[0m\n",
      "\u001b[1;32mc:\\program files (x86)\\python36-32\\lib\\site-packages\\pyproj\\transformer.py\u001b[0m in \u001b[0;36mfrom_crs\u001b[1;34m(crs_from, crs_to, skip_equivalent, always_xy, area_of_interest)\u001b[0m\n\u001b[0;32m    301\u001b[0m                 \u001b[0mskip_equivalent\u001b[0m\u001b[1;33m=\u001b[0m\u001b[0mskip_equivalent\u001b[0m\u001b[1;33m,\u001b[0m\u001b[1;33m\u001b[0m\u001b[0m\n\u001b[0;32m    302\u001b[0m                 \u001b[0malways_xy\u001b[0m\u001b[1;33m=\u001b[0m\u001b[0malways_xy\u001b[0m\u001b[1;33m,\u001b[0m\u001b[1;33m\u001b[0m\u001b[0m\n\u001b[1;32m--> 303\u001b[1;33m                 \u001b[0marea_of_interest\u001b[0m\u001b[1;33m=\u001b[0m\u001b[0marea_of_interest\u001b[0m\u001b[1;33m,\u001b[0m\u001b[1;33m\u001b[0m\u001b[0m\n\u001b[0m\u001b[0;32m    304\u001b[0m             )\n\u001b[0;32m    305\u001b[0m         )\n",
      "\u001b[1;32mpyproj\\_transformer.pyx\u001b[0m in \u001b[0;36mpyproj._transformer._Transformer.from_crs\u001b[1;34m()\u001b[0m\n",
      "\u001b[1;32mpyproj\\_transformer.pyx\u001b[0m in \u001b[0;36mpyproj._transformer._Transformer._init_from_crs\u001b[1;34m()\u001b[0m\n",
      "\u001b[1;32mpyproj\\_transformer.pyx\u001b[0m in \u001b[0;36mpyproj._transformer._Transformer._initialize_from_projobj\u001b[1;34m()\u001b[0m\n",
      "\u001b[1;32mpyproj\\_crs.pyx\u001b[0m in \u001b[0;36mpyproj._crs.Base._set_base_info\u001b[1;34m()\u001b[0m\n",
      "\u001b[1;32mpyproj\\_crs.pyx\u001b[0m in \u001b[0;36mpyproj._crs.decode_or_undefined\u001b[1;34m()\u001b[0m\n",
      "\u001b[1;32mpyproj\\_crs.pyx\u001b[0m in \u001b[0;36mpyproj._crs.cstrdecode\u001b[1;34m()\u001b[0m\n",
      "\u001b[1;32mc:\\program files (x86)\\python36-32\\lib\\site-packages\\pyproj\\compat.py\u001b[0m in \u001b[0;36mpystrdecode\u001b[1;34m(cstr)\u001b[0m\n\u001b[0;32m     18\u001b[0m     \u001b[0mDecode\u001b[0m \u001b[0ma\u001b[0m \u001b[0mstring\u001b[0m \u001b[0mto\u001b[0m \u001b[0ma\u001b[0m \u001b[0mpython\u001b[0m \u001b[0mstring\u001b[0m\u001b[1;33m.\u001b[0m\u001b[1;33m\u001b[0m\u001b[0m\n\u001b[0;32m     19\u001b[0m     \"\"\"\n\u001b[1;32m---> 20\u001b[1;33m     \u001b[1;32mtry\u001b[0m\u001b[1;33m:\u001b[0m\u001b[1;33m\u001b[0m\u001b[0m\n\u001b[0m\u001b[0;32m     21\u001b[0m         \u001b[1;32mreturn\u001b[0m \u001b[0mcstr\u001b[0m\u001b[1;33m.\u001b[0m\u001b[0mdecode\u001b[0m\u001b[1;33m(\u001b[0m\u001b[1;34m\"utf-8\"\u001b[0m\u001b[1;33m)\u001b[0m\u001b[1;33m\u001b[0m\u001b[0m\n\u001b[0;32m     22\u001b[0m     \u001b[1;32mexcept\u001b[0m \u001b[0mAttributeError\u001b[0m\u001b[1;33m:\u001b[0m\u001b[1;33m\u001b[0m\u001b[0m\n",
      "\u001b[1;31mKeyboardInterrupt\u001b[0m: "
     ]
    }
   ],
   "source": [
    "###########################################################################################################\n",
    "### Print Results\n",
    "###########################################################################################################\n",
    "\n",
    "print(\"+++ CHARGING STATION STATISTICS +++\\n\\n\")\n",
    "\n",
    "print(\"Number of CS in Munich: {}\\n\".format(len(munich_cs.geometry)))\n",
    "\n",
    "print(\"Number of unique operators before mapping: {}\\n\".format(N_unique_operators_raw))\n",
    "\n",
    "print(\"Number of unique operators after mapping: {}\\n\".format(N_unique_operators))\n",
    "\n",
    "print(\"Unique operators after mapping: {}\\n\".format(munich_cs.operator.unique()))\n",
    "\n",
    "###########################################################################################################\n",
    "### Visualization\n",
    "###########################################################################################################\n",
    "\n",
    "# Plot the districts of Munich in a semi-transparent way, include the count of charging stations as color\n",
    "ax = munich_districts.plot(alpha=0.9, edgecolor='k', column='n_cs_per_sqkm', cmap='Greys')\n",
    "\n",
    "# Add the charging stations to the plot\n",
    "munich_cs.plot(ax=ax)\n",
    "\n",
    "# Show results on a map\n",
    "mplleaflet.show(fig=ax.figure, crs=munich_cs.crs, tiles='cartodb_positron', path=OUT_DIR+\"//\"+MAP_OUT_FILENAME)\n",
    "\n",
    "# Open second figure for operator histogram\n",
    "plt.figure()\n",
    "plt.title(\"Number of Charging Stations per Operator\")\n",
    "\n",
    "# Plot operator histogram\n",
    "histogram_data = munich_cs.operator.value_counts()\n",
    "plt.bar(x = list(range(N_unique_operators)), tick_label = list(histogram_data.keys()), height = list(histogram_data.values))\n",
    "plt.xticks(rotation='vertical')\n",
    "plt.show()"
   ]
  }
 ],
 "metadata": {
  "kernelspec": {
   "display_name": "Python 3",
   "language": "python",
   "name": "python3"
  },
  "language_info": {
   "codemirror_mode": {
    "name": "ipython",
    "version": 3
   },
   "file_extension": ".py",
   "mimetype": "text/x-python",
   "name": "python",
   "nbconvert_exporter": "python",
   "pygments_lexer": "ipython3",
   "version": "3.6.8"
  }
 },
 "nbformat": 4,
 "nbformat_minor": 2
}
